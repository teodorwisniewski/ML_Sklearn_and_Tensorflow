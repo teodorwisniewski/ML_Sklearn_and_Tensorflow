{
 "cells": [
  {
   "cell_type": "markdown",
   "metadata": {},
   "source": [
    "# Project: Identify Customer Segments\n",
    "\n",
    "In this project, you will apply unsupervised learning techniques to identify segments of the population that form the core customer base for a mail-order sales company in Germany. These segments can then be used to direct marketing campaigns towards audiences that will have the highest expected rate of returns. The data that you will use has been provided by our partners at Bertelsmann Arvato Analytics, and represents a real-life data science task.\n",
    "\n",
    "This notebook will help you complete this task by providing a framework within which you will perform your analysis steps. In each step of the project, you will see some text describing the subtask that you will perform, followed by one or more code cells for you to complete your work. **Feel free to add additional code and markdown cells as you go along so that you can explore everything in precise chunks.** The code cells provided in the base template will outline only the major tasks, and will usually not be enough to cover all of the minor tasks that comprise it.\n",
    "\n",
    "It should be noted that while there will be precise guidelines on how you should handle certain tasks in the project, there will also be places where an exact specification is not provided. **There will be times in the project where you will need to make and justify your own decisions on how to treat the data.** These are places where there may not be only one way to handle the data. In real-life tasks, there may be many valid ways to approach an analysis task. One of the most important things you can do is clearly document your approach so that other scientists can understand the decisions you've made.\n",
    "\n",
    "At the end of most sections, there will be a Markdown cell labeled **Discussion**. In these cells, you will report your findings for the completed section, as well as document the decisions that you made in your approach to each subtask. **Your project will be evaluated not just on the code used to complete the tasks outlined, but also your communication about your observations and conclusions at each stage.**"
   ]
  },
  {
   "cell_type": "code",
   "execution_count": 85,
   "metadata": {},
   "outputs": [
    {
     "data": {
      "text/plain": [
       "'\\nImport note: The classroom currently uses sklearn version 0.19.\\nIf you need to use an imputer, it is available in sklearn.preprocessing.Imputer,\\ninstead of sklearn.impute as in newer versions of sklearn.\\n'"
      ]
     },
     "execution_count": 85,
     "metadata": {},
     "output_type": "execute_result"
    }
   ],
   "source": [
    "# import libraries here; add more as necessary\n",
    "import numpy as np\n",
    "import pandas as pd\n",
    "import matplotlib.pyplot as plt\n",
    "import seaborn as sns\n",
    "\n",
    "# magic word for producing visualizations in notebook\n",
    "%matplotlib inline\n",
    "\n",
    "'''\n",
    "Import note: The classroom currently uses sklearn version 0.19.\n",
    "If you need to use an imputer, it is available in sklearn.preprocessing.Imputer,\n",
    "instead of sklearn.impute as in newer versions of sklearn.\n",
    "'''"
   ]
  },
  {
   "cell_type": "markdown",
   "metadata": {},
   "source": [
    "### Step 0: Load the Data\n",
    "\n",
    "There are four files associated with this project (not including this one):\n",
    "\n",
    "- `Udacity_AZDIAS_Subset.csv`: Demographics data for the general population of Germany; 891211 persons (rows) x 85 features (columns).\n",
    "- `Udacity_CUSTOMERS_Subset.csv`: Demographics data for customers of a mail-order company; 191652 persons (rows) x 85 features (columns).\n",
    "- `Data_Dictionary.md`: Detailed information file about the features in the provided datasets.\n",
    "- `AZDIAS_Feature_Summary.csv`: Summary of feature attributes for demographics data; 85 features (rows) x 4 columns\n",
    "\n",
    "Each row of the demographics files represents a single person, but also includes information outside of individuals, including information about their household, building, and neighborhood. You will use this information to cluster the general population into groups with similar demographic properties. Then, you will see how the people in the customers dataset fit into those created clusters. The hope here is that certain clusters are over-represented in the customers data, as compared to the general population; those over-represented clusters will be assumed to be part of the core userbase. This information can then be used for further applications, such as targeting for a marketing campaign.\n",
    "\n",
    "To start off with, load in the demographics data for the general population into a pandas DataFrame, and do the same for the feature attributes summary. Note for all of the `.csv` data files in this project: they're semicolon (`;`) delimited, so you'll need an additional argument in your [`read_csv()`](https://pandas.pydata.org/pandas-docs/stable/generated/pandas.read_csv.html) call to read in the data properly. Also, considering the size of the main dataset, it may take some time for it to load completely.\n",
    "\n",
    "Once the dataset is loaded, it's recommended that you take a little bit of time just browsing the general structure of the dataset and feature summary file. You'll be getting deep into the innards of the cleaning in the first major step of the project, so gaining some general familiarity can help you get your bearings."
   ]
  },
  {
   "cell_type": "code",
   "execution_count": 86,
   "metadata": {},
   "outputs": [],
   "source": [
    "# Load in the general demographics data.\n",
    "azdias = pd.read_csv(\"Udacity_AZDIAS_Subset.csv\" ,delimiter=\";\")\n",
    "\n",
    "# Load in the feature summary file.\n",
    "feat_info = pd.read_table(\"AZDIAS_Feature_Summary.csv\",sep=';')"
   ]
  },
  {
   "cell_type": "code",
   "execution_count": 87,
   "metadata": {},
   "outputs": [
    {
     "data": {
      "text/html": [
       "<div>\n",
       "<style scoped>\n",
       "    .dataframe tbody tr th:only-of-type {\n",
       "        vertical-align: middle;\n",
       "    }\n",
       "\n",
       "    .dataframe tbody tr th {\n",
       "        vertical-align: top;\n",
       "    }\n",
       "\n",
       "    .dataframe thead th {\n",
       "        text-align: right;\n",
       "    }\n",
       "</style>\n",
       "<table border=\"1\" class=\"dataframe\">\n",
       "  <thead>\n",
       "    <tr style=\"text-align: right;\">\n",
       "      <th></th>\n",
       "      <th>AGER_TYP</th>\n",
       "      <th>ALTERSKATEGORIE_GROB</th>\n",
       "      <th>ANREDE_KZ</th>\n",
       "      <th>CJT_GESAMTTYP</th>\n",
       "      <th>FINANZ_MINIMALIST</th>\n",
       "      <th>FINANZ_SPARER</th>\n",
       "      <th>FINANZ_VORSORGER</th>\n",
       "      <th>FINANZ_ANLEGER</th>\n",
       "      <th>FINANZ_UNAUFFAELLIGER</th>\n",
       "      <th>FINANZ_HAUSBAUER</th>\n",
       "      <th>...</th>\n",
       "      <th>PLZ8_ANTG1</th>\n",
       "      <th>PLZ8_ANTG2</th>\n",
       "      <th>PLZ8_ANTG3</th>\n",
       "      <th>PLZ8_ANTG4</th>\n",
       "      <th>PLZ8_BAUMAX</th>\n",
       "      <th>PLZ8_HHZ</th>\n",
       "      <th>PLZ8_GBZ</th>\n",
       "      <th>ARBEIT</th>\n",
       "      <th>ORTSGR_KLS9</th>\n",
       "      <th>RELAT_AB</th>\n",
       "    </tr>\n",
       "  </thead>\n",
       "  <tbody>\n",
       "    <tr>\n",
       "      <th>0</th>\n",
       "      <td>-1</td>\n",
       "      <td>2</td>\n",
       "      <td>1</td>\n",
       "      <td>2.0</td>\n",
       "      <td>3</td>\n",
       "      <td>4</td>\n",
       "      <td>3</td>\n",
       "      <td>5</td>\n",
       "      <td>5</td>\n",
       "      <td>3</td>\n",
       "      <td>...</td>\n",
       "      <td>NaN</td>\n",
       "      <td>NaN</td>\n",
       "      <td>NaN</td>\n",
       "      <td>NaN</td>\n",
       "      <td>NaN</td>\n",
       "      <td>NaN</td>\n",
       "      <td>NaN</td>\n",
       "      <td>NaN</td>\n",
       "      <td>NaN</td>\n",
       "      <td>NaN</td>\n",
       "    </tr>\n",
       "    <tr>\n",
       "      <th>1</th>\n",
       "      <td>-1</td>\n",
       "      <td>1</td>\n",
       "      <td>2</td>\n",
       "      <td>5.0</td>\n",
       "      <td>1</td>\n",
       "      <td>5</td>\n",
       "      <td>2</td>\n",
       "      <td>5</td>\n",
       "      <td>4</td>\n",
       "      <td>5</td>\n",
       "      <td>...</td>\n",
       "      <td>2.0</td>\n",
       "      <td>3.0</td>\n",
       "      <td>2.0</td>\n",
       "      <td>1.0</td>\n",
       "      <td>1.0</td>\n",
       "      <td>5.0</td>\n",
       "      <td>4.0</td>\n",
       "      <td>3.0</td>\n",
       "      <td>5.0</td>\n",
       "      <td>4.0</td>\n",
       "    </tr>\n",
       "    <tr>\n",
       "      <th>2</th>\n",
       "      <td>-1</td>\n",
       "      <td>3</td>\n",
       "      <td>2</td>\n",
       "      <td>3.0</td>\n",
       "      <td>1</td>\n",
       "      <td>4</td>\n",
       "      <td>1</td>\n",
       "      <td>2</td>\n",
       "      <td>3</td>\n",
       "      <td>5</td>\n",
       "      <td>...</td>\n",
       "      <td>3.0</td>\n",
       "      <td>3.0</td>\n",
       "      <td>1.0</td>\n",
       "      <td>0.0</td>\n",
       "      <td>1.0</td>\n",
       "      <td>4.0</td>\n",
       "      <td>4.0</td>\n",
       "      <td>3.0</td>\n",
       "      <td>5.0</td>\n",
       "      <td>2.0</td>\n",
       "    </tr>\n",
       "    <tr>\n",
       "      <th>3</th>\n",
       "      <td>2</td>\n",
       "      <td>4</td>\n",
       "      <td>2</td>\n",
       "      <td>2.0</td>\n",
       "      <td>4</td>\n",
       "      <td>2</td>\n",
       "      <td>5</td>\n",
       "      <td>2</td>\n",
       "      <td>1</td>\n",
       "      <td>2</td>\n",
       "      <td>...</td>\n",
       "      <td>2.0</td>\n",
       "      <td>2.0</td>\n",
       "      <td>2.0</td>\n",
       "      <td>0.0</td>\n",
       "      <td>1.0</td>\n",
       "      <td>3.0</td>\n",
       "      <td>4.0</td>\n",
       "      <td>2.0</td>\n",
       "      <td>3.0</td>\n",
       "      <td>3.0</td>\n",
       "    </tr>\n",
       "    <tr>\n",
       "      <th>4</th>\n",
       "      <td>-1</td>\n",
       "      <td>3</td>\n",
       "      <td>1</td>\n",
       "      <td>5.0</td>\n",
       "      <td>4</td>\n",
       "      <td>3</td>\n",
       "      <td>4</td>\n",
       "      <td>1</td>\n",
       "      <td>3</td>\n",
       "      <td>2</td>\n",
       "      <td>...</td>\n",
       "      <td>2.0</td>\n",
       "      <td>4.0</td>\n",
       "      <td>2.0</td>\n",
       "      <td>1.0</td>\n",
       "      <td>2.0</td>\n",
       "      <td>3.0</td>\n",
       "      <td>3.0</td>\n",
       "      <td>4.0</td>\n",
       "      <td>6.0</td>\n",
       "      <td>5.0</td>\n",
       "    </tr>\n",
       "  </tbody>\n",
       "</table>\n",
       "<p>5 rows × 85 columns</p>\n",
       "</div>"
      ],
      "text/plain": [
       "   AGER_TYP  ALTERSKATEGORIE_GROB  ANREDE_KZ  CJT_GESAMTTYP  \\\n",
       "0        -1                     2          1            2.0   \n",
       "1        -1                     1          2            5.0   \n",
       "2        -1                     3          2            3.0   \n",
       "3         2                     4          2            2.0   \n",
       "4        -1                     3          1            5.0   \n",
       "\n",
       "   FINANZ_MINIMALIST  FINANZ_SPARER  FINANZ_VORSORGER  FINANZ_ANLEGER  \\\n",
       "0                  3              4                 3               5   \n",
       "1                  1              5                 2               5   \n",
       "2                  1              4                 1               2   \n",
       "3                  4              2                 5               2   \n",
       "4                  4              3                 4               1   \n",
       "\n",
       "   FINANZ_UNAUFFAELLIGER  FINANZ_HAUSBAUER    ...     PLZ8_ANTG1  PLZ8_ANTG2  \\\n",
       "0                      5                 3    ...            NaN         NaN   \n",
       "1                      4                 5    ...            2.0         3.0   \n",
       "2                      3                 5    ...            3.0         3.0   \n",
       "3                      1                 2    ...            2.0         2.0   \n",
       "4                      3                 2    ...            2.0         4.0   \n",
       "\n",
       "   PLZ8_ANTG3  PLZ8_ANTG4  PLZ8_BAUMAX  PLZ8_HHZ  PLZ8_GBZ  ARBEIT  \\\n",
       "0         NaN         NaN          NaN       NaN       NaN     NaN   \n",
       "1         2.0         1.0          1.0       5.0       4.0     3.0   \n",
       "2         1.0         0.0          1.0       4.0       4.0     3.0   \n",
       "3         2.0         0.0          1.0       3.0       4.0     2.0   \n",
       "4         2.0         1.0          2.0       3.0       3.0     4.0   \n",
       "\n",
       "   ORTSGR_KLS9  RELAT_AB  \n",
       "0          NaN       NaN  \n",
       "1          5.0       4.0  \n",
       "2          5.0       2.0  \n",
       "3          3.0       3.0  \n",
       "4          6.0       5.0  \n",
       "\n",
       "[5 rows x 85 columns]"
      ]
     },
     "execution_count": 87,
     "metadata": {},
     "output_type": "execute_result"
    }
   ],
   "source": [
    "# Check the structure of the data after it's loaded (e.g. print the number of\n",
    "# rows and columns, print the first few rows).\n",
    "azdias.head()\n"
   ]
  },
  {
   "cell_type": "code",
   "execution_count": null,
   "metadata": {},
   "outputs": [],
   "source": []
  },
  {
   "cell_type": "code",
   "execution_count": 88,
   "metadata": {},
   "outputs": [
    {
     "data": {
      "text/html": [
       "<div>\n",
       "<style scoped>\n",
       "    .dataframe tbody tr th:only-of-type {\n",
       "        vertical-align: middle;\n",
       "    }\n",
       "\n",
       "    .dataframe tbody tr th {\n",
       "        vertical-align: top;\n",
       "    }\n",
       "\n",
       "    .dataframe thead th {\n",
       "        text-align: right;\n",
       "    }\n",
       "</style>\n",
       "<table border=\"1\" class=\"dataframe\">\n",
       "  <thead>\n",
       "    <tr style=\"text-align: right;\">\n",
       "      <th></th>\n",
       "      <th>attribute</th>\n",
       "      <th>information_level</th>\n",
       "      <th>type</th>\n",
       "      <th>missing_or_unknown</th>\n",
       "    </tr>\n",
       "  </thead>\n",
       "  <tbody>\n",
       "    <tr>\n",
       "      <th>0</th>\n",
       "      <td>AGER_TYP</td>\n",
       "      <td>person</td>\n",
       "      <td>categorical</td>\n",
       "      <td>[-1,0]</td>\n",
       "    </tr>\n",
       "    <tr>\n",
       "      <th>1</th>\n",
       "      <td>ALTERSKATEGORIE_GROB</td>\n",
       "      <td>person</td>\n",
       "      <td>ordinal</td>\n",
       "      <td>[-1,0,9]</td>\n",
       "    </tr>\n",
       "    <tr>\n",
       "      <th>2</th>\n",
       "      <td>ANREDE_KZ</td>\n",
       "      <td>person</td>\n",
       "      <td>categorical</td>\n",
       "      <td>[-1,0]</td>\n",
       "    </tr>\n",
       "    <tr>\n",
       "      <th>3</th>\n",
       "      <td>CJT_GESAMTTYP</td>\n",
       "      <td>person</td>\n",
       "      <td>categorical</td>\n",
       "      <td>[0]</td>\n",
       "    </tr>\n",
       "    <tr>\n",
       "      <th>4</th>\n",
       "      <td>FINANZ_MINIMALIST</td>\n",
       "      <td>person</td>\n",
       "      <td>ordinal</td>\n",
       "      <td>[-1]</td>\n",
       "    </tr>\n",
       "    <tr>\n",
       "      <th>5</th>\n",
       "      <td>FINANZ_SPARER</td>\n",
       "      <td>person</td>\n",
       "      <td>ordinal</td>\n",
       "      <td>[-1]</td>\n",
       "    </tr>\n",
       "    <tr>\n",
       "      <th>6</th>\n",
       "      <td>FINANZ_VORSORGER</td>\n",
       "      <td>person</td>\n",
       "      <td>ordinal</td>\n",
       "      <td>[-1]</td>\n",
       "    </tr>\n",
       "    <tr>\n",
       "      <th>7</th>\n",
       "      <td>FINANZ_ANLEGER</td>\n",
       "      <td>person</td>\n",
       "      <td>ordinal</td>\n",
       "      <td>[-1]</td>\n",
       "    </tr>\n",
       "    <tr>\n",
       "      <th>8</th>\n",
       "      <td>FINANZ_UNAUFFAELLIGER</td>\n",
       "      <td>person</td>\n",
       "      <td>ordinal</td>\n",
       "      <td>[-1]</td>\n",
       "    </tr>\n",
       "    <tr>\n",
       "      <th>9</th>\n",
       "      <td>FINANZ_HAUSBAUER</td>\n",
       "      <td>person</td>\n",
       "      <td>ordinal</td>\n",
       "      <td>[-1]</td>\n",
       "    </tr>\n",
       "  </tbody>\n",
       "</table>\n",
       "</div>"
      ],
      "text/plain": [
       "               attribute information_level         type missing_or_unknown\n",
       "0               AGER_TYP            person  categorical             [-1,0]\n",
       "1   ALTERSKATEGORIE_GROB            person      ordinal           [-1,0,9]\n",
       "2              ANREDE_KZ            person  categorical             [-1,0]\n",
       "3          CJT_GESAMTTYP            person  categorical                [0]\n",
       "4      FINANZ_MINIMALIST            person      ordinal               [-1]\n",
       "5          FINANZ_SPARER            person      ordinal               [-1]\n",
       "6       FINANZ_VORSORGER            person      ordinal               [-1]\n",
       "7         FINANZ_ANLEGER            person      ordinal               [-1]\n",
       "8  FINANZ_UNAUFFAELLIGER            person      ordinal               [-1]\n",
       "9       FINANZ_HAUSBAUER            person      ordinal               [-1]"
      ]
     },
     "execution_count": 88,
     "metadata": {},
     "output_type": "execute_result"
    }
   ],
   "source": [
    "feat_info.head(10)"
   ]
  },
  {
   "cell_type": "code",
   "execution_count": 89,
   "metadata": {},
   "outputs": [
    {
     "data": {
      "text/plain": [
       "3    358533\n",
       "4    228510\n",
       "2    158410\n",
       "1    142887\n",
       "9      2881\n",
       "Name: ALTERSKATEGORIE_GROB, dtype: int64"
      ]
     },
     "execution_count": 89,
     "metadata": {},
     "output_type": "execute_result"
    }
   ],
   "source": [
    "azdias['ALTERSKATEGORIE_GROB'].value_counts()"
   ]
  },
  {
   "cell_type": "code",
   "execution_count": 90,
   "metadata": {},
   "outputs": [
    {
     "data": {
      "text/plain": [
       "dtype('int64')"
      ]
     },
     "execution_count": 90,
     "metadata": {},
     "output_type": "execute_result"
    }
   ],
   "source": [
    "azdias['ALTERSKATEGORIE_GROB'].dtype"
   ]
  },
  {
   "cell_type": "code",
   "execution_count": 91,
   "metadata": {},
   "outputs": [
    {
     "data": {
      "text/plain": [
       "-1    677503\n",
       " 2     98472\n",
       " 1     79802\n",
       " 3     27104\n",
       " 0      8340\n",
       "Name: AGER_TYP, dtype: int64"
      ]
     },
     "execution_count": 91,
     "metadata": {},
     "output_type": "execute_result"
    }
   ],
   "source": [
    "azdias['AGER_TYP'].value_counts()"
   ]
  },
  {
   "cell_type": "markdown",
   "metadata": {},
   "source": [
    "> **Tip**: Add additional cells to keep everything in reasonably-sized chunks! Keyboard shortcut `esc --> a` (press escape to enter command mode, then press the 'A' key) adds a new cell before the active cell, and `esc --> b` adds a new cell after the active cell. If you need to convert an active cell to a markdown cell, use `esc --> m` and to convert to a code cell, use `esc --> y`. \n",
    "\n",
    "## Step 1: Preprocessing\n",
    "\n",
    "### Step 1.1: Assess Missing Data\n",
    "\n",
    "The feature summary file contains a summary of properties for each demographics data column. You will use this file to help you make cleaning decisions during this stage of the project. First of all, you should assess the demographics data in terms of missing data. Pay attention to the following points as you perform your analysis, and take notes on what you observe. Make sure that you fill in the **Discussion** cell with your findings and decisions at the end of each step that has one!\n",
    "\n",
    "#### Step 1.1.1: Convert Missing Value Codes to NaNs\n",
    "The fourth column of the feature attributes summary (loaded in above as `feat_info`) documents the codes from the data dictionary that indicate missing or unknown data. While the file encodes this as a list (e.g. `[-1,0]`), this will get read in as a string object. You'll need to do a little bit of parsing to make use of it to identify and clean the data. Convert data that matches a 'missing' or 'unknown' value code into a numpy NaN value. You might want to see how much data takes on a 'missing' or 'unknown' code, and how much data is naturally missing, as a point of interest.\n",
    "\n",
    "**As one more reminder, you are encouraged to add additional cells to break up your analysis into manageable chunks.**"
   ]
  },
  {
   "cell_type": "code",
   "execution_count": 92,
   "metadata": {},
   "outputs": [
    {
     "data": {
      "text/plain": [
       "4896838"
      ]
     },
     "execution_count": 92,
     "metadata": {},
     "output_type": "execute_result"
    }
   ],
   "source": [
    "azdias.isnull().sum().sum()"
   ]
  },
  {
   "cell_type": "code",
   "execution_count": null,
   "metadata": {},
   "outputs": [],
   "source": []
  },
  {
   "cell_type": "code",
   "execution_count": null,
   "metadata": {},
   "outputs": [],
   "source": []
  },
  {
   "cell_type": "code",
   "execution_count": 93,
   "metadata": {},
   "outputs": [
    {
     "name": "stdout",
     "output_type": "stream",
     "text": [
      "There are 4896838 missing values.\n"
     ]
    }
   ],
   "source": [
    "# Identify missing or unknown data values and convert them to NaNs.\n",
    "print('There are {} missing values.'.format(azdias.isnull().sum().sum()))\n"
   ]
  },
  {
   "cell_type": "code",
   "execution_count": 94,
   "metadata": {},
   "outputs": [
    {
     "name": "stdout",
     "output_type": "stream",
     "text": [
      "[-1,0]\n",
      "<class 'str'>\n"
     ]
    }
   ],
   "source": [
    "missing_or_unknown = feat_info.iloc[0]['missing_or_unknown']\n",
    "print(missing_or_unknown)\n",
    "print(type(missing_or_unknown))"
   ]
  },
  {
   "cell_type": "markdown",
   "metadata": {},
   "source": [
    "### Comments: <br>\n",
    "    In the cell above , one can notice that we have string objects in the missing_or_unknown column of feat_info dataframe."
   ]
  },
  {
   "cell_type": "code",
   "execution_count": 95,
   "metadata": {},
   "outputs": [],
   "source": [
    "# parsing the 'missing_or_unknown' column of the feat_info dataframe\n",
    "\n",
    "feat_info['missing_or_unknown'] = feat_info['missing_or_unknown'].str.extract(r\"\\[(.*)\\]\", expand=False).str.split(\",\")\n"
   ]
  },
  {
   "cell_type": "code",
   "execution_count": 96,
   "metadata": {},
   "outputs": [
    {
     "data": {
      "text/plain": [
       "0        [-1, 0]\n",
       "1     [-1, 0, 9]\n",
       "2        [-1, 0]\n",
       "3            [0]\n",
       "4           [-1]\n",
       "5           [-1]\n",
       "6           [-1]\n",
       "7           [-1]\n",
       "8           [-1]\n",
       "9           [-1]\n",
       "10          [-1]\n",
       "11           [0]\n",
       "12            []\n",
       "Name: missing_or_unknown, dtype: object"
      ]
     },
     "execution_count": 96,
     "metadata": {},
     "output_type": "execute_result"
    }
   ],
   "source": [
    "feat_info['missing_or_unknown'].head(13)"
   ]
  },
  {
   "cell_type": "code",
   "execution_count": 97,
   "metadata": {},
   "outputs": [
    {
     "data": {
      "text/plain": [
       "['']"
      ]
     },
     "execution_count": 97,
     "metadata": {},
     "output_type": "execute_result"
    }
   ],
   "source": [
    "feat_info['missing_or_unknown'].iloc[13]"
   ]
  },
  {
   "cell_type": "code",
   "execution_count": null,
   "metadata": {},
   "outputs": [],
   "source": []
  },
  {
   "cell_type": "code",
   "execution_count": 98,
   "metadata": {},
   "outputs": [],
   "source": [
    "def to_int_list(l):\n",
    "    output_list = []\n",
    "    for el in l:\n",
    "        try:\n",
    "            output_list.append(int(el))\n",
    "        except:\n",
    "            output_list.append(el)\n",
    "    return output_list"
   ]
  },
  {
   "cell_type": "code",
   "execution_count": 99,
   "metadata": {},
   "outputs": [],
   "source": [
    "\n",
    "# replacing missing and null values with Nan values\n",
    "for indx in range(len(feat_info)): #\n",
    "    \n",
    "    column_name = feat_info.iloc[indx]['attribute']\n",
    "    missing_or_unknown = to_int_list(feat_info.iloc[indx]['missing_or_unknown'])\n",
    "    for el in missing_or_unknown:\n",
    "        azdias[column_name] = azdias[column_name].replace(el,np.nan)\n"
   ]
  },
  {
   "cell_type": "code",
   "execution_count": 100,
   "metadata": {},
   "outputs": [
    {
     "data": {
      "text/html": [
       "<div>\n",
       "<style scoped>\n",
       "    .dataframe tbody tr th:only-of-type {\n",
       "        vertical-align: middle;\n",
       "    }\n",
       "\n",
       "    .dataframe tbody tr th {\n",
       "        vertical-align: top;\n",
       "    }\n",
       "\n",
       "    .dataframe thead th {\n",
       "        text-align: right;\n",
       "    }\n",
       "</style>\n",
       "<table border=\"1\" class=\"dataframe\">\n",
       "  <thead>\n",
       "    <tr style=\"text-align: right;\">\n",
       "      <th></th>\n",
       "      <th>AGER_TYP</th>\n",
       "      <th>ALTERSKATEGORIE_GROB</th>\n",
       "      <th>ANREDE_KZ</th>\n",
       "      <th>CJT_GESAMTTYP</th>\n",
       "      <th>FINANZ_MINIMALIST</th>\n",
       "      <th>FINANZ_SPARER</th>\n",
       "      <th>FINANZ_VORSORGER</th>\n",
       "      <th>FINANZ_ANLEGER</th>\n",
       "      <th>FINANZ_UNAUFFAELLIGER</th>\n",
       "      <th>FINANZ_HAUSBAUER</th>\n",
       "      <th>...</th>\n",
       "      <th>PLZ8_ANTG1</th>\n",
       "      <th>PLZ8_ANTG2</th>\n",
       "      <th>PLZ8_ANTG3</th>\n",
       "      <th>PLZ8_ANTG4</th>\n",
       "      <th>PLZ8_BAUMAX</th>\n",
       "      <th>PLZ8_HHZ</th>\n",
       "      <th>PLZ8_GBZ</th>\n",
       "      <th>ARBEIT</th>\n",
       "      <th>ORTSGR_KLS9</th>\n",
       "      <th>RELAT_AB</th>\n",
       "    </tr>\n",
       "  </thead>\n",
       "  <tbody>\n",
       "    <tr>\n",
       "      <th>0</th>\n",
       "      <td>NaN</td>\n",
       "      <td>2.0</td>\n",
       "      <td>1</td>\n",
       "      <td>2.0</td>\n",
       "      <td>3</td>\n",
       "      <td>4</td>\n",
       "      <td>3</td>\n",
       "      <td>5</td>\n",
       "      <td>5</td>\n",
       "      <td>3</td>\n",
       "      <td>...</td>\n",
       "      <td>NaN</td>\n",
       "      <td>NaN</td>\n",
       "      <td>NaN</td>\n",
       "      <td>NaN</td>\n",
       "      <td>NaN</td>\n",
       "      <td>NaN</td>\n",
       "      <td>NaN</td>\n",
       "      <td>NaN</td>\n",
       "      <td>NaN</td>\n",
       "      <td>NaN</td>\n",
       "    </tr>\n",
       "    <tr>\n",
       "      <th>1</th>\n",
       "      <td>NaN</td>\n",
       "      <td>1.0</td>\n",
       "      <td>2</td>\n",
       "      <td>5.0</td>\n",
       "      <td>1</td>\n",
       "      <td>5</td>\n",
       "      <td>2</td>\n",
       "      <td>5</td>\n",
       "      <td>4</td>\n",
       "      <td>5</td>\n",
       "      <td>...</td>\n",
       "      <td>2.0</td>\n",
       "      <td>3.0</td>\n",
       "      <td>2.0</td>\n",
       "      <td>1.0</td>\n",
       "      <td>1.0</td>\n",
       "      <td>5.0</td>\n",
       "      <td>4.0</td>\n",
       "      <td>3.0</td>\n",
       "      <td>5.0</td>\n",
       "      <td>4.0</td>\n",
       "    </tr>\n",
       "    <tr>\n",
       "      <th>2</th>\n",
       "      <td>NaN</td>\n",
       "      <td>3.0</td>\n",
       "      <td>2</td>\n",
       "      <td>3.0</td>\n",
       "      <td>1</td>\n",
       "      <td>4</td>\n",
       "      <td>1</td>\n",
       "      <td>2</td>\n",
       "      <td>3</td>\n",
       "      <td>5</td>\n",
       "      <td>...</td>\n",
       "      <td>3.0</td>\n",
       "      <td>3.0</td>\n",
       "      <td>1.0</td>\n",
       "      <td>0.0</td>\n",
       "      <td>1.0</td>\n",
       "      <td>4.0</td>\n",
       "      <td>4.0</td>\n",
       "      <td>3.0</td>\n",
       "      <td>5.0</td>\n",
       "      <td>2.0</td>\n",
       "    </tr>\n",
       "    <tr>\n",
       "      <th>3</th>\n",
       "      <td>2.0</td>\n",
       "      <td>4.0</td>\n",
       "      <td>2</td>\n",
       "      <td>2.0</td>\n",
       "      <td>4</td>\n",
       "      <td>2</td>\n",
       "      <td>5</td>\n",
       "      <td>2</td>\n",
       "      <td>1</td>\n",
       "      <td>2</td>\n",
       "      <td>...</td>\n",
       "      <td>2.0</td>\n",
       "      <td>2.0</td>\n",
       "      <td>2.0</td>\n",
       "      <td>0.0</td>\n",
       "      <td>1.0</td>\n",
       "      <td>3.0</td>\n",
       "      <td>4.0</td>\n",
       "      <td>2.0</td>\n",
       "      <td>3.0</td>\n",
       "      <td>3.0</td>\n",
       "    </tr>\n",
       "    <tr>\n",
       "      <th>4</th>\n",
       "      <td>NaN</td>\n",
       "      <td>3.0</td>\n",
       "      <td>1</td>\n",
       "      <td>5.0</td>\n",
       "      <td>4</td>\n",
       "      <td>3</td>\n",
       "      <td>4</td>\n",
       "      <td>1</td>\n",
       "      <td>3</td>\n",
       "      <td>2</td>\n",
       "      <td>...</td>\n",
       "      <td>2.0</td>\n",
       "      <td>4.0</td>\n",
       "      <td>2.0</td>\n",
       "      <td>1.0</td>\n",
       "      <td>2.0</td>\n",
       "      <td>3.0</td>\n",
       "      <td>3.0</td>\n",
       "      <td>4.0</td>\n",
       "      <td>6.0</td>\n",
       "      <td>5.0</td>\n",
       "    </tr>\n",
       "  </tbody>\n",
       "</table>\n",
       "<p>5 rows × 85 columns</p>\n",
       "</div>"
      ],
      "text/plain": [
       "   AGER_TYP  ALTERSKATEGORIE_GROB  ANREDE_KZ  CJT_GESAMTTYP  \\\n",
       "0       NaN                   2.0          1            2.0   \n",
       "1       NaN                   1.0          2            5.0   \n",
       "2       NaN                   3.0          2            3.0   \n",
       "3       2.0                   4.0          2            2.0   \n",
       "4       NaN                   3.0          1            5.0   \n",
       "\n",
       "   FINANZ_MINIMALIST  FINANZ_SPARER  FINANZ_VORSORGER  FINANZ_ANLEGER  \\\n",
       "0                  3              4                 3               5   \n",
       "1                  1              5                 2               5   \n",
       "2                  1              4                 1               2   \n",
       "3                  4              2                 5               2   \n",
       "4                  4              3                 4               1   \n",
       "\n",
       "   FINANZ_UNAUFFAELLIGER  FINANZ_HAUSBAUER    ...     PLZ8_ANTG1  PLZ8_ANTG2  \\\n",
       "0                      5                 3    ...            NaN         NaN   \n",
       "1                      4                 5    ...            2.0         3.0   \n",
       "2                      3                 5    ...            3.0         3.0   \n",
       "3                      1                 2    ...            2.0         2.0   \n",
       "4                      3                 2    ...            2.0         4.0   \n",
       "\n",
       "   PLZ8_ANTG3  PLZ8_ANTG4  PLZ8_BAUMAX  PLZ8_HHZ  PLZ8_GBZ  ARBEIT  \\\n",
       "0         NaN         NaN          NaN       NaN       NaN     NaN   \n",
       "1         2.0         1.0          1.0       5.0       4.0     3.0   \n",
       "2         1.0         0.0          1.0       4.0       4.0     3.0   \n",
       "3         2.0         0.0          1.0       3.0       4.0     2.0   \n",
       "4         2.0         1.0          2.0       3.0       3.0     4.0   \n",
       "\n",
       "   ORTSGR_KLS9  RELAT_AB  \n",
       "0          NaN       NaN  \n",
       "1          5.0       4.0  \n",
       "2          5.0       2.0  \n",
       "3          3.0       3.0  \n",
       "4          6.0       5.0  \n",
       "\n",
       "[5 rows x 85 columns]"
      ]
     },
     "execution_count": 100,
     "metadata": {},
     "output_type": "execute_result"
    }
   ],
   "source": [
    "azdias.head()"
   ]
  },
  {
   "cell_type": "code",
   "execution_count": 101,
   "metadata": {},
   "outputs": [
    {
     "name": "stdout",
     "output_type": "stream",
     "text": [
      "There are 8373929 missing values.\n"
     ]
    }
   ],
   "source": [
    "print('There are {} missing values.'.format(azdias.isnull().sum().sum()))"
   ]
  },
  {
   "cell_type": "markdown",
   "metadata": {},
   "source": [
    "#### Step 1.1.2: Assess Missing Data in Each Column\n",
    "\n",
    "How much missing data is present in each column? There are a few columns that are outliers in terms of the proportion of values that are missing. You will want to use matplotlib's [`hist()`](https://matplotlib.org/api/_as_gen/matplotlib.pyplot.hist.html) function to visualize the distribution of missing value counts to find these columns. Identify and document these columns. While some of these columns might have justifications for keeping or re-encoding the data, for this project you should just remove them from the dataframe. (Feel free to make remarks about these outlier columns in the discussion, however!)\n",
    "\n",
    "For the remaining features, are there any patterns in which columns have, or share, missing data?"
   ]
  },
  {
   "cell_type": "code",
   "execution_count": null,
   "metadata": {},
   "outputs": [],
   "source": []
  },
  {
   "cell_type": "code",
   "execution_count": 102,
   "metadata": {},
   "outputs": [
    {
     "data": {
      "text/plain": [
       "AGER_TYP                 0.769554\n",
       "ALTERSKATEGORIE_GROB     0.003233\n",
       "ANREDE_KZ                0.000000\n",
       "CJT_GESAMTTYP            0.005446\n",
       "FINANZ_MINIMALIST        0.000000\n",
       "FINANZ_SPARER            0.000000\n",
       "FINANZ_VORSORGER         0.000000\n",
       "FINANZ_ANLEGER           0.000000\n",
       "FINANZ_UNAUFFAELLIGER    0.000000\n",
       "FINANZ_HAUSBAUER         0.000000\n",
       "dtype: float64"
      ]
     },
     "execution_count": 102,
     "metadata": {},
     "output_type": "execute_result"
    }
   ],
   "source": [
    "# Perform an assessment of how much missing data there is in each column of the\n",
    "# dataset.\n",
    "null_values = azdias.isnull().mean()\n",
    "null_values.head(10)"
   ]
  },
  {
   "cell_type": "code",
   "execution_count": null,
   "metadata": {},
   "outputs": [],
   "source": []
  },
  {
   "cell_type": "code",
   "execution_count": null,
   "metadata": {},
   "outputs": [],
   "source": []
  },
  {
   "cell_type": "code",
   "execution_count": 103,
   "metadata": {},
   "outputs": [
    {
     "data": {
      "image/png": "[encoded data removed]",
      "text/plain": [
       "<matplotlib.figure.Figure at 0x7f4559c5f940>"
      ]
     },
     "metadata": {
      "needs_background": "light"
     },
     "output_type": "display_data"
    }
   ],
   "source": [
    "# Investigate patterns in the amount of missing data in each column.\n",
    "plt.hist(null_values)\n",
    "plt.xlabel('the column number')\n",
    "plt.ylabel('proportion')\n",
    "plt.title('Histogram of missing values in each column')\n",
    "plt.show()"
   ]
  },
  {
   "cell_type": "markdown",
   "metadata": {},
   "source": [
    "### Comment: <br>\n",
    "In the histogram above, one can observe that most columns contain missing values"
   ]
  },
  {
   "cell_type": "code",
   "execution_count": 104,
   "metadata": {},
   "outputs": [
    {
     "data": {
      "text/plain": [
       "count    85.000000\n",
       "mean      0.110541\n",
       "std       0.164498\n",
       "min       0.000000\n",
       "25%       0.000000\n",
       "50%       0.104517\n",
       "75%       0.130736\n",
       "max       0.997576\n",
       "dtype: float64"
      ]
     },
     "execution_count": 104,
     "metadata": {},
     "output_type": "execute_result"
    }
   ],
   "source": [
    "# Remove the outlier columns from the dataset. (You'll perform other data\n",
    "# engineering tasks such as re-encoding and imputation later.)\n",
    "null_values.describe()\n"
   ]
  },
  {
   "cell_type": "code",
   "execution_count": 105,
   "metadata": {},
   "outputs": [
    {
     "data": {
      "text/plain": [
       "0.15946931232545028"
      ]
     },
     "execution_count": 105,
     "metadata": {},
     "output_type": "execute_result"
    }
   ],
   "source": [
    "null_values.quantile(0.9)"
   ]
  },
  {
   "cell_type": "code",
   "execution_count": 106,
   "metadata": {},
   "outputs": [
    {
     "data": {
      "text/plain": [
       "(9,\n",
       " ['AGER_TYP',\n",
       "  'GEBURTSJAHR',\n",
       "  'TITEL_KZ',\n",
       "  'ALTER_HH',\n",
       "  'KK_KUNDENTYP',\n",
       "  'W_KEIT_KIND_HH',\n",
       "  'KBA05_BAUMAX',\n",
       "  'KKK',\n",
       "  'REGIOTYP'])"
      ]
     },
     "execution_count": 106,
     "metadata": {},
     "output_type": "execute_result"
    }
   ],
   "source": [
    "# We going to consider outlier columns in 90th and above percentile of null values series\n",
    "percentile90th = null_values.quantile(0.9)\n",
    "outlier_columns_toremove = list(null_values[null_values>percentile90th].index)\n",
    "len(outlier_columns_toremove),outlier_columns_toremove"
   ]
  },
  {
   "cell_type": "code",
   "execution_count": 107,
   "metadata": {},
   "outputs": [],
   "source": [
    "azdias = azdias.drop(columns=outlier_columns_toremove, axis=1)"
   ]
  },
  {
   "cell_type": "code",
   "execution_count": 108,
   "metadata": {},
   "outputs": [
    {
     "data": {
      "text/html": [
       "<div>\n",
       "<style scoped>\n",
       "    .dataframe tbody tr th:only-of-type {\n",
       "        vertical-align: middle;\n",
       "    }\n",
       "\n",
       "    .dataframe tbody tr th {\n",
       "        vertical-align: top;\n",
       "    }\n",
       "\n",
       "    .dataframe thead th {\n",
       "        text-align: right;\n",
       "    }\n",
       "</style>\n",
       "<table border=\"1\" class=\"dataframe\">\n",
       "  <thead>\n",
       "    <tr style=\"text-align: right;\">\n",
       "      <th></th>\n",
       "      <th>ALTERSKATEGORIE_GROB</th>\n",
       "      <th>ANREDE_KZ</th>\n",
       "      <th>CJT_GESAMTTYP</th>\n",
       "      <th>FINANZ_MINIMALIST</th>\n",
       "      <th>FINANZ_SPARER</th>\n",
       "      <th>FINANZ_VORSORGER</th>\n",
       "      <th>FINANZ_ANLEGER</th>\n",
       "      <th>FINANZ_UNAUFFAELLIGER</th>\n",
       "      <th>FINANZ_HAUSBAUER</th>\n",
       "      <th>FINANZTYP</th>\n",
       "      <th>...</th>\n",
       "      <th>PLZ8_ANTG1</th>\n",
       "      <th>PLZ8_ANTG2</th>\n",
       "      <th>PLZ8_ANTG3</th>\n",
       "      <th>PLZ8_ANTG4</th>\n",
       "      <th>PLZ8_BAUMAX</th>\n",
       "      <th>PLZ8_HHZ</th>\n",
       "      <th>PLZ8_GBZ</th>\n",
       "      <th>ARBEIT</th>\n",
       "      <th>ORTSGR_KLS9</th>\n",
       "      <th>RELAT_AB</th>\n",
       "    </tr>\n",
       "  </thead>\n",
       "  <tbody>\n",
       "    <tr>\n",
       "      <th>0</th>\n",
       "      <td>2.0</td>\n",
       "      <td>1</td>\n",
       "      <td>2.0</td>\n",
       "      <td>3</td>\n",
       "      <td>4</td>\n",
       "      <td>3</td>\n",
       "      <td>5</td>\n",
       "      <td>5</td>\n",
       "      <td>3</td>\n",
       "      <td>4</td>\n",
       "      <td>...</td>\n",
       "      <td>NaN</td>\n",
       "      <td>NaN</td>\n",
       "      <td>NaN</td>\n",
       "      <td>NaN</td>\n",
       "      <td>NaN</td>\n",
       "      <td>NaN</td>\n",
       "      <td>NaN</td>\n",
       "      <td>NaN</td>\n",
       "      <td>NaN</td>\n",
       "      <td>NaN</td>\n",
       "    </tr>\n",
       "    <tr>\n",
       "      <th>1</th>\n",
       "      <td>1.0</td>\n",
       "      <td>2</td>\n",
       "      <td>5.0</td>\n",
       "      <td>1</td>\n",
       "      <td>5</td>\n",
       "      <td>2</td>\n",
       "      <td>5</td>\n",
       "      <td>4</td>\n",
       "      <td>5</td>\n",
       "      <td>1</td>\n",
       "      <td>...</td>\n",
       "      <td>2.0</td>\n",
       "      <td>3.0</td>\n",
       "      <td>2.0</td>\n",
       "      <td>1.0</td>\n",
       "      <td>1.0</td>\n",
       "      <td>5.0</td>\n",
       "      <td>4.0</td>\n",
       "      <td>3.0</td>\n",
       "      <td>5.0</td>\n",
       "      <td>4.0</td>\n",
       "    </tr>\n",
       "    <tr>\n",
       "      <th>2</th>\n",
       "      <td>3.0</td>\n",
       "      <td>2</td>\n",
       "      <td>3.0</td>\n",
       "      <td>1</td>\n",
       "      <td>4</td>\n",
       "      <td>1</td>\n",
       "      <td>2</td>\n",
       "      <td>3</td>\n",
       "      <td>5</td>\n",
       "      <td>1</td>\n",
       "      <td>...</td>\n",
       "      <td>3.0</td>\n",
       "      <td>3.0</td>\n",
       "      <td>1.0</td>\n",
       "      <td>0.0</td>\n",
       "      <td>1.0</td>\n",
       "      <td>4.0</td>\n",
       "      <td>4.0</td>\n",
       "      <td>3.0</td>\n",
       "      <td>5.0</td>\n",
       "      <td>2.0</td>\n",
       "    </tr>\n",
       "    <tr>\n",
       "      <th>3</th>\n",
       "      <td>4.0</td>\n",
       "      <td>2</td>\n",
       "      <td>2.0</td>\n",
       "      <td>4</td>\n",
       "      <td>2</td>\n",
       "      <td>5</td>\n",
       "      <td>2</td>\n",
       "      <td>1</td>\n",
       "      <td>2</td>\n",
       "      <td>6</td>\n",
       "      <td>...</td>\n",
       "      <td>2.0</td>\n",
       "      <td>2.0</td>\n",
       "      <td>2.0</td>\n",
       "      <td>0.0</td>\n",
       "      <td>1.0</td>\n",
       "      <td>3.0</td>\n",
       "      <td>4.0</td>\n",
       "      <td>2.0</td>\n",
       "      <td>3.0</td>\n",
       "      <td>3.0</td>\n",
       "    </tr>\n",
       "    <tr>\n",
       "      <th>4</th>\n",
       "      <td>3.0</td>\n",
       "      <td>1</td>\n",
       "      <td>5.0</td>\n",
       "      <td>4</td>\n",
       "      <td>3</td>\n",
       "      <td>4</td>\n",
       "      <td>1</td>\n",
       "      <td>3</td>\n",
       "      <td>2</td>\n",
       "      <td>5</td>\n",
       "      <td>...</td>\n",
       "      <td>2.0</td>\n",
       "      <td>4.0</td>\n",
       "      <td>2.0</td>\n",
       "      <td>1.0</td>\n",
       "      <td>2.0</td>\n",
       "      <td>3.0</td>\n",
       "      <td>3.0</td>\n",
       "      <td>4.0</td>\n",
       "      <td>6.0</td>\n",
       "      <td>5.0</td>\n",
       "    </tr>\n",
       "  </tbody>\n",
       "</table>\n",
       "<p>5 rows × 76 columns</p>\n",
       "</div>"
      ],
      "text/plain": [
       "   ALTERSKATEGORIE_GROB  ANREDE_KZ  CJT_GESAMTTYP  FINANZ_MINIMALIST  \\\n",
       "0                   2.0          1            2.0                  3   \n",
       "1                   1.0          2            5.0                  1   \n",
       "2                   3.0          2            3.0                  1   \n",
       "3                   4.0          2            2.0                  4   \n",
       "4                   3.0          1            5.0                  4   \n",
       "\n",
       "   FINANZ_SPARER  FINANZ_VORSORGER  FINANZ_ANLEGER  FINANZ_UNAUFFAELLIGER  \\\n",
       "0              4                 3               5                      5   \n",
       "1              5                 2               5                      4   \n",
       "2              4                 1               2                      3   \n",
       "3              2                 5               2                      1   \n",
       "4              3                 4               1                      3   \n",
       "\n",
       "   FINANZ_HAUSBAUER  FINANZTYP    ...     PLZ8_ANTG1  PLZ8_ANTG2  PLZ8_ANTG3  \\\n",
       "0                 3          4    ...            NaN         NaN         NaN   \n",
       "1                 5          1    ...            2.0         3.0         2.0   \n",
       "2                 5          1    ...            3.0         3.0         1.0   \n",
       "3                 2          6    ...            2.0         2.0         2.0   \n",
       "4                 2          5    ...            2.0         4.0         2.0   \n",
       "\n",
       "   PLZ8_ANTG4  PLZ8_BAUMAX  PLZ8_HHZ  PLZ8_GBZ  ARBEIT  ORTSGR_KLS9  RELAT_AB  \n",
       "0         NaN          NaN       NaN       NaN     NaN          NaN       NaN  \n",
       "1         1.0          1.0       5.0       4.0     3.0          5.0       4.0  \n",
       "2         0.0          1.0       4.0       4.0     3.0          5.0       2.0  \n",
       "3         0.0          1.0       3.0       4.0     2.0          3.0       3.0  \n",
       "4         1.0          2.0       3.0       3.0     4.0          6.0       5.0  \n",
       "\n",
       "[5 rows x 76 columns]"
      ]
     },
     "execution_count": 108,
     "metadata": {},
     "output_type": "execute_result"
    }
   ],
   "source": [
    "azdias.head()"
   ]
  },
  {
   "cell_type": "code",
   "execution_count": null,
   "metadata": {},
   "outputs": [],
   "source": []
  },
  {
   "cell_type": "markdown",
   "metadata": {},
   "source": [
    "#### Discussion 1.1.2: Assess Missing Data in Each Column\n",
    "\n",
    "(Double click this cell and replace this text with your own text, reporting your observations regarding the amount of missing data in each column. Are there any patterns in missing values? Which columns were removed from the dataset?)"
   ]
  },
  {
   "cell_type": "markdown",
   "metadata": {},
   "source": [
    "### Comment <br>\n",
    "9 columns have been removed:\n",
    "'AGER_TYP',\n",
    " 'GEBURTSJAHR',\n",
    " 'TITEL_KZ',\n",
    " 'ALTER_HH',\n",
    " 'KK_KUNDENTYP',\n",
    " 'W_KEIT_KIND_HH',\n",
    " 'KBA05_BAUMAX',\n",
    " 'KKK',\n",
    " 'REGIOTYP'\n",
    " The dataset under contains a lot of missing values. "
   ]
  },
  {
   "cell_type": "markdown",
   "metadata": {},
   "source": [
    "#### Step 1.1.3: Assess Missing Data in Each Row\n",
    "\n",
    "Now, you'll perform a similar assessment for the rows of the dataset. How much data is missing in each row? As with the columns, you should see some groups of points that have a very different numbers of missing values. Divide the data into two subsets: one for data points that are above some threshold for missing values, and a second subset for points below that threshold.\n",
    "\n",
    "In order to know what to do with the outlier rows, we should see if the distribution of data values on columns that are not missing data (or are missing very little data) are similar or different between the two groups. Select at least five of these columns and compare the distribution of values.\n",
    "- You can use seaborn's [`countplot()`](https://seaborn.pydata.org/generated/seaborn.countplot.html) function to create a bar chart of code frequencies and matplotlib's [`subplot()`](https://matplotlib.org/api/_as_gen/matplotlib.pyplot.subplot.html) function to put bar charts for the two subplots side by side.\n",
    "- To reduce repeated code, you might want to write a function that can perform this comparison, taking as one of its arguments a column to be compared.\n",
    "\n",
    "Depending on what you observe in your comparison, this will have implications on how you approach your conclusions later in the analysis. If the distributions of non-missing features look similar between the data with many missing values and the data with few or no missing values, then we could argue that simply dropping those points from the analysis won't present a major issue. On the other hand, if the data with many missing values looks very different from the data with few or no missing values, then we should make a note on those data as special. We'll revisit these data later on. **Either way, you should continue your analysis for now using just the subset of the data with few or no missing values.**"
   ]
  },
  {
   "cell_type": "code",
   "execution_count": 109,
   "metadata": {},
   "outputs": [
    {
     "data": {
      "text/plain": [
       "0    0.526316\n",
       "1    0.000000\n",
       "2    0.000000\n",
       "3    0.052632\n",
       "4    0.000000\n",
       "dtype: float64"
      ]
     },
     "execution_count": 109,
     "metadata": {},
     "output_type": "execute_result"
    }
   ],
   "source": [
    "# How much data is missing in each row of the dataset?\n",
    "missing_values_rows = azdias.isnull().mean(axis=1)\n",
    "missing_values_rows.iloc[:5]"
   ]
  },
  {
   "cell_type": "code",
   "execution_count": 110,
   "metadata": {},
   "outputs": [
    {
     "data": {
      "image/png": "[encoded data removed]",
      "text/plain": [
       "<matplotlib.figure.Figure at 0x7f4559c35358>"
      ]
     },
     "metadata": {
      "needs_background": "light"
     },
     "output_type": "display_data"
    }
   ],
   "source": [
    "plt.hist(missing_values_rows)\n",
    "plt.ylabel('Proportion of columns with missing values per row')\n",
    "plt.xlabel('The number of row')\n",
    "plt.show()"
   ]
  },
  {
   "cell_type": "code",
   "execution_count": 111,
   "metadata": {},
   "outputs": [],
   "source": [
    "# Write code to divide the data into two subsets based on the number of missing\n",
    "# values in each row.\n",
    "\n",
    "azdias_subset1 = azdias[missing_values_rows<0.3]\n",
    "azdias_subset2 = azdias[missing_values_rows>=0.3]"
   ]
  },
  {
   "cell_type": "code",
   "execution_count": null,
   "metadata": {},
   "outputs": [],
   "source": []
  },
  {
   "cell_type": "code",
   "execution_count": 112,
   "metadata": {},
   "outputs": [
    {
     "data": {
      "text/plain": [
       "((797872, 76), (93349, 76))"
      ]
     },
     "execution_count": 112,
     "metadata": {},
     "output_type": "execute_result"
    }
   ],
   "source": [
    "azdias_subset1.shape, azdias_subset2.shape"
   ]
  },
  {
   "cell_type": "code",
   "execution_count": 113,
   "metadata": {},
   "outputs": [
    {
     "data": {
      "text/plain": [
       "['ANREDE_KZ',\n",
       " 'FINANZ_MINIMALIST',\n",
       " 'FINANZ_SPARER',\n",
       " 'FINANZ_VORSORGER',\n",
       " 'FINANZ_ANLEGER']"
      ]
     },
     "execution_count": 113,
     "metadata": {},
     "output_type": "execute_result"
    }
   ],
   "source": [
    "# Compare the distribution of values for at least five columns where there are\n",
    "# no or few missing values, between the two subsets.\n",
    "no_missing_columns = null_values[null_values==0].index.tolist()\n",
    "no_missing_columns[:5]"
   ]
  },
  {
   "cell_type": "code",
   "execution_count": 114,
   "metadata": {},
   "outputs": [
    {
     "data": {
      "image/png": "[encoded data removed]",
      "text/plain": [
       "<matplotlib.figure.Figure at 0x7f4559c3d2b0>"
      ]
     },
     "metadata": {
      "needs_background": "light"
     },
     "output_type": "display_data"
    }
   ],
   "source": [
    "nb_to_compare = 4\n",
    "figure, axs = plt.subplots(nrows=len(no_missing_columns[:nb_to_compare]), ncols=2, figsize = (15,20))\n",
    "figure.subplots_adjust(hspace = 1, wspace=.3)\n",
    "for i in range(nb_to_compare):\n",
    "    sns.countplot(azdias_subset1[no_missing_columns[i]], ax=axs[i][0])\n",
    "    axs[i][0].set_title('Fez missing values')\n",
    "    sns.countplot(azdias_subset2[no_missing_columns[i]], ax=axs[i][1])\n",
    "    axs[i][1].set_title('Many missing values')"
   ]
  },
  {
   "cell_type": "markdown",
   "metadata": {},
   "source": [
    "#### Discussion 1.1.3: Assess Missing Data in Each Row\n",
    "\n",
    "(Double-click this cell and replace this text with your own text, reporting your observations regarding missing data in rows. Are the data with lots of missing values are qualitatively different from data with few or no missing values?)\n",
    "\n",
    "The histograms above shows that the rows with many missing values are not uniformly distributed values-wise. For this subset of a dataset, one can notice an important influence of outiers. We do not observe tendecy in the subset with few missing values per row. Therefore, we are going to use only the subset with few or none of missing values per row."
   ]
  },
  {
   "cell_type": "markdown",
   "metadata": {},
   "source": [
    "### Step 1.2: Select and Re-Encode Features\n",
    "\n",
    "Checking for missing data isn't the only way in which you can prepare a dataset for analysis. Since the unsupervised learning techniques to be used will only work on data that is encoded numerically, you need to make a few encoding changes or additional assumptions to be able to make progress. In addition, while almost all of the values in the dataset are encoded using numbers, not all of them represent numeric values. Check the third column of the feature summary (`feat_info`) for a summary of types of measurement.\n",
    "- For numeric and interval data, these features can be kept without changes.\n",
    "- Most of the variables in the dataset are ordinal in nature. While ordinal values may technically be non-linear in spacing, make the simplifying assumption that the ordinal variables can be treated as being interval in nature (that is, kept without any changes).\n",
    "- Special handling may be necessary for the remaining two variable types: categorical, and 'mixed'.\n",
    "\n",
    "In the first two parts of this sub-step, you will perform an investigation of the categorical and mixed-type features and make a decision on each of them, whether you will keep, drop, or re-encode each. Then, in the last part, you will create a new data frame with only the selected and engineered columns.\n",
    "\n",
    "Data wrangling is often the trickiest part of the data analysis process, and there's a lot of it to be done here. But stick with it: once you're done with this step, you'll be ready to get to the machine learning parts of the project!"
   ]
  },
  {
   "cell_type": "code",
   "execution_count": null,
   "metadata": {},
   "outputs": [],
   "source": []
  },
  {
   "cell_type": "code",
   "execution_count": 115,
   "metadata": {},
   "outputs": [
    {
     "data": {
      "text/plain": [
       "ordinal        46\n",
       "categorical    18\n",
       "mixed           6\n",
       "numeric         6\n",
       "Name: type, dtype: int64"
      ]
     },
     "execution_count": 115,
     "metadata": {},
     "output_type": "execute_result"
    }
   ],
   "source": [
    "# How many features are there of each data type?\n",
    "column_names = azdias_subset1.columns.tolist()\n",
    "subste_feat_info = feat_info[feat_info[\"attribute\"].isin(column_names)]\n",
    "subste_feat_info[\"type\"].value_counts()\n"
   ]
  },
  {
   "cell_type": "markdown",
   "metadata": {},
   "source": [
    "#### Step 1.2.1: Re-Encode Categorical Features\n",
    "\n",
    "For categorical data, you would ordinarily need to encode the levels as dummy variables. Depending on the number of categories, perform one of the following:\n",
    "- For binary (two-level) categoricals that take numeric values, you can keep them without needing to do anything.\n",
    "- There is one binary variable that takes on non-numeric values. For this one, you need to re-encode the values as numbers or create a dummy variable.\n",
    "- For multi-level categoricals (three or more values), you can choose to encode the values using multiple dummy variables (e.g. via [OneHotEncoder](http://scikit-learn.org/stable/modules/generated/sklearn.preprocessing.OneHotEncoder.html)), or (to keep things straightforward) just drop them from the analysis. As always, document your choices in the Discussion section."
   ]
  },
  {
   "cell_type": "code",
   "execution_count": 116,
   "metadata": {},
   "outputs": [
    {
     "data": {
      "text/html": [
       "<div>\n",
       "<style scoped>\n",
       "    .dataframe tbody tr th:only-of-type {\n",
       "        vertical-align: middle;\n",
       "    }\n",
       "\n",
       "    .dataframe tbody tr th {\n",
       "        vertical-align: top;\n",
       "    }\n",
       "\n",
       "    .dataframe thead th {\n",
       "        text-align: right;\n",
       "    }\n",
       "</style>\n",
       "<table border=\"1\" class=\"dataframe\">\n",
       "  <thead>\n",
       "    <tr style=\"text-align: right;\">\n",
       "      <th></th>\n",
       "      <th>attribute</th>\n",
       "      <th>information_level</th>\n",
       "      <th>type</th>\n",
       "      <th>missing_or_unknown</th>\n",
       "    </tr>\n",
       "  </thead>\n",
       "  <tbody>\n",
       "    <tr>\n",
       "      <th>0</th>\n",
       "      <td>AGER_TYP</td>\n",
       "      <td>person</td>\n",
       "      <td>categorical</td>\n",
       "      <td>[-1, 0]</td>\n",
       "    </tr>\n",
       "    <tr>\n",
       "      <th>1</th>\n",
       "      <td>ALTERSKATEGORIE_GROB</td>\n",
       "      <td>person</td>\n",
       "      <td>ordinal</td>\n",
       "      <td>[-1, 0, 9]</td>\n",
       "    </tr>\n",
       "    <tr>\n",
       "      <th>2</th>\n",
       "      <td>ANREDE_KZ</td>\n",
       "      <td>person</td>\n",
       "      <td>categorical</td>\n",
       "      <td>[-1, 0]</td>\n",
       "    </tr>\n",
       "    <tr>\n",
       "      <th>3</th>\n",
       "      <td>CJT_GESAMTTYP</td>\n",
       "      <td>person</td>\n",
       "      <td>categorical</td>\n",
       "      <td>[0]</td>\n",
       "    </tr>\n",
       "    <tr>\n",
       "      <th>4</th>\n",
       "      <td>FINANZ_MINIMALIST</td>\n",
       "      <td>person</td>\n",
       "      <td>ordinal</td>\n",
       "      <td>[-1]</td>\n",
       "    </tr>\n",
       "  </tbody>\n",
       "</table>\n",
       "</div>"
      ],
      "text/plain": [
       "              attribute information_level         type missing_or_unknown\n",
       "0              AGER_TYP            person  categorical            [-1, 0]\n",
       "1  ALTERSKATEGORIE_GROB            person      ordinal         [-1, 0, 9]\n",
       "2             ANREDE_KZ            person  categorical            [-1, 0]\n",
       "3         CJT_GESAMTTYP            person  categorical                [0]\n",
       "4     FINANZ_MINIMALIST            person      ordinal               [-1]"
      ]
     },
     "execution_count": 116,
     "metadata": {},
     "output_type": "execute_result"
    }
   ],
   "source": [
    "feat_info.head()"
   ]
  },
  {
   "cell_type": "code",
   "execution_count": 117,
   "metadata": {},
   "outputs": [
    {
     "data": {
      "text/plain": [
       "Index(['attribute', 'information_level', 'type', 'missing_or_unknown'], dtype='object')"
      ]
     },
     "execution_count": 117,
     "metadata": {},
     "output_type": "execute_result"
    }
   ],
   "source": [
    "# Assess categorical variables: which are binary, which are multi-level, and\n",
    "# which one needs to be re-encoded?\n",
    "categ_vars = subste_feat_info[subste_feat_info[\"type\"]==\"categorical\"]\n",
    "feat_info.columns"
   ]
  },
  {
   "cell_type": "code",
   "execution_count": 118,
   "metadata": {},
   "outputs": [
    {
     "name": "stdout",
     "output_type": "stream",
     "text": [
      "2    416073\n",
      "1    381799\n",
      "Name: ANREDE_KZ, dtype: int64\n",
      "0    622677\n",
      "1    175195\n",
      "Name: GREEN_AVANTGARDE, dtype: int64\n",
      "0.0    791157\n",
      "1.0      6715\n",
      "Name: SOHO_KZ, dtype: int64\n",
      "2.0    394202\n",
      "1.0    367007\n",
      "Name: VERS_TYP, dtype: int64\n",
      "W    629356\n",
      "O    168516\n",
      "Name: OST_WEST_KZ, dtype: int64\n"
     ]
    }
   ],
   "source": [
    "binary_vars = []\n",
    "multi_level = []\n",
    "for col in categ_vars['attribute']:\n",
    "    if azdias_subset1[col].nunique() == 2:\n",
    "        binary_vars.append(col)\n",
    "        print(azdias_subset1[col].value_counts())\n",
    "    else:\n",
    "        multi_level.append(col)\n",
    "    "
   ]
  },
  {
   "cell_type": "code",
   "execution_count": 119,
   "metadata": {},
   "outputs": [
    {
     "data": {
      "text/plain": [
       "False"
      ]
     },
     "execution_count": 119,
     "metadata": {},
     "output_type": "execute_result"
    }
   ],
   "source": [
    "'PRAEGENDE_JUGENDJAHRE' in multi_level"
   ]
  },
  {
   "cell_type": "code",
   "execution_count": null,
   "metadata": {},
   "outputs": [],
   "source": []
  },
  {
   "cell_type": "code",
   "execution_count": 120,
   "metadata": {},
   "outputs": [
    {
     "name": "stderr",
     "output_type": "stream",
     "text": [
      "/opt/conda/lib/python3.6/site-packages/pandas/core/generic.py:5890: SettingWithCopyWarning: \n",
      "A value is trying to be set on a copy of a slice from a DataFrame\n",
      "\n",
      "See the caveats in the documentation: http://pandas.pydata.org/pandas-docs/stable/indexing.html#indexing-view-versus-copy\n",
      "  self._update_inplace(new_data)\n"
     ]
    },
    {
     "data": {
      "text/plain": [
       "1         0\n",
       "2         0\n",
       "3         0\n",
       "4         0\n",
       "5         0\n",
       "6         0\n",
       "7         0\n",
       "8         0\n",
       "9         0\n",
       "10        0\n",
       "12        0\n",
       "13        0\n",
       "15        0\n",
       "16        0\n",
       "18        0\n",
       "19        0\n",
       "20        0\n",
       "21        0\n",
       "22        0\n",
       "23        0\n",
       "25        0\n",
       "26        0\n",
       "27        0\n",
       "28        0\n",
       "29        0\n",
       "31        0\n",
       "32        0\n",
       "33        0\n",
       "34        0\n",
       "36        0\n",
       "         ..\n",
       "891191    0\n",
       "891192    0\n",
       "891193    0\n",
       "891194    0\n",
       "891195    0\n",
       "891196    0\n",
       "891197    0\n",
       "891198    0\n",
       "891199    0\n",
       "891200    0\n",
       "891201    0\n",
       "891202    0\n",
       "891203    0\n",
       "891204    0\n",
       "891205    0\n",
       "891206    0\n",
       "891207    0\n",
       "891208    0\n",
       "891209    0\n",
       "891210    0\n",
       "891211    0\n",
       "891212    0\n",
       "891213    0\n",
       "891214    0\n",
       "891215    0\n",
       "891216    0\n",
       "891217    0\n",
       "891218    0\n",
       "891219    0\n",
       "891220    0\n",
       "Name: OST_WEST_KZ, Length: 797872, dtype: int64"
      ]
     },
     "execution_count": 120,
     "metadata": {},
     "output_type": "execute_result"
    }
   ],
   "source": [
    "# Re-encode categorical variable(s) to be kept in the analysis.\n",
    "azdias_subset1[\"ANREDE_KZ\"].replace({2:0,1:1},inplace=True)\n",
    "azdias_subset1[\"SOHO_KZ\"].replace({0.0:0,1.0:1},inplace=True)\n",
    "azdias_subset1[\"VERS_TYP\"].replace({1.0:0,2.0:1},inplace=True)\n",
    "#non numerical variables\n",
    "azdias_subset1[\"OST_WEST_KZ\"].replace({'W':0,'O':1},inplace=True)\n",
    "azdias_subset1[\"OST_WEST_KZ\"].astype('int',inplace=True)\n",
    "\n"
   ]
  },
  {
   "cell_type": "code",
   "execution_count": null,
   "metadata": {},
   "outputs": [],
   "source": []
  },
  {
   "cell_type": "code",
   "execution_count": 121,
   "metadata": {},
   "outputs": [],
   "source": [
    "azdias_subset1 = pd.get_dummies(azdias_subset1, columns = multi_level)"
   ]
  },
  {
   "cell_type": "code",
   "execution_count": 122,
   "metadata": {},
   "outputs": [
    {
     "data": {
      "text/plain": [
       "1    14.0\n",
       "2    15.0\n",
       "3     8.0\n",
       "4     8.0\n",
       "5     3.0\n",
       "Name: PRAEGENDE_JUGENDJAHRE, dtype: float64"
      ]
     },
     "execution_count": 122,
     "metadata": {},
     "output_type": "execute_result"
    }
   ],
   "source": [
    "azdias_subset1['PRAEGENDE_JUGENDJAHRE'].head()"
   ]
  },
  {
   "cell_type": "code",
   "execution_count": 123,
   "metadata": {},
   "outputs": [
    {
     "data": {
      "text/plain": [
       "['CJT_GESAMTTYP',\n",
       " 'FINANZTYP',\n",
       " 'GFK_URLAUBERTYP',\n",
       " 'LP_FAMILIE_FEIN',\n",
       " 'LP_FAMILIE_GROB']"
      ]
     },
     "execution_count": 123,
     "metadata": {},
     "output_type": "execute_result"
    }
   ],
   "source": [
    "multi_level[:5]"
   ]
  },
  {
   "cell_type": "code",
   "execution_count": null,
   "metadata": {},
   "outputs": [],
   "source": []
  },
  {
   "cell_type": "code",
   "execution_count": null,
   "metadata": {},
   "outputs": [],
   "source": []
  },
  {
   "cell_type": "code",
   "execution_count": 124,
   "metadata": {},
   "outputs": [],
   "source": [
    "# for col in  azdias_subset1.columns:\n",
    "#     if azdias_subset1[col].nunique() == 2:\n",
    "#         print(azdias_subset1[col].value_counts())\n"
   ]
  },
  {
   "cell_type": "code",
   "execution_count": null,
   "metadata": {},
   "outputs": [],
   "source": []
  },
  {
   "cell_type": "markdown",
   "metadata": {},
   "source": [
    "#### Discussion 1.2.1: Re-Encode Categorical Features\n",
    "\n",
    "(Double-click this cell and replace this text with your own text, reporting your findings and decisions regarding categorical features. Which ones did you keep, which did you drop, and what engineering steps did you perform?)\n",
    "\n",
    "### Comments <br>\n",
    "Five columns have been re-encoded to 0-1 convection. These columns are now suitable for ML algorithms.\n",
    "Multicategorical columns have changed too. New dummy variables have been created and original multilevel columns have been dropped."
   ]
  },
  {
   "cell_type": "markdown",
   "metadata": {},
   "source": [
    "#### Step 1.2.2: Engineer Mixed-Type Features\n",
    "\n",
    "There are a handful of features that are marked as \"mixed\" in the feature summary that require special treatment in order to be included in the analysis. There are two in particular that deserve attention; the handling of the rest are up to your own choices:\n",
    "- \"PRAEGENDE_JUGENDJAHRE\" combines information on three dimensions: generation by decade, movement (mainstream vs. avantgarde), and nation (east vs. west). While there aren't enough levels to disentangle east from west, you should create two new variables to capture the other two dimensions: an interval-type variable for decade, and a binary variable for movement.\n",
    "- \"CAMEO_INTL_2015\" combines information on two axes: wealth and life stage. Break up the two-digit codes by their 'tens'-place and 'ones'-place digits into two new ordinal variables (which, for the purposes of this project, is equivalent to just treating them as their raw numeric values).\n",
    "- If you decide to keep or engineer new features around the other mixed-type features, make sure you note your steps in the Discussion section.\n",
    "\n",
    "Be sure to check `Data_Dictionary.md` for the details needed to finish these tasks."
   ]
  },
  {
   "cell_type": "markdown",
   "metadata": {},
   "source": [
    "### 1.18. PRAEGENDE_JUGENDJAHRE\n",
    "Dominating movement of person's youth (avantgarde vs. mainstream; east vs. west)\n",
    "- -1: unknown\n",
    "-  0: unknown\n",
    "-  1: 40s - war years (Mainstream, E+W)\n",
    "-  2: 40s - reconstruction years (Avantgarde, E+W)\n",
    "-  3: 50s - economic miracle (Mainstream, E+W)\n",
    "-  4: 50s - milk bar / Individualisation (Avantgarde, E+W)\n",
    "-  5: 60s - economic miracle (Mainstream, E+W)\n",
    "-  6: 60s - generation 68 / student protestors (Avantgarde, W)\n",
    "-  7: 60s - opponents to the building of the Wall (Avantgarde, E)\n",
    "-  8: 70s - family orientation (Mainstream, E+W)\n",
    "-  9: 70s - peace movement (Avantgarde, E+W)\n",
    "- 10: 80s - Generation Golf (Mainstream, W)\n",
    "- 11: 80s - ecological awareness (Avantgarde, W)\n",
    "- 12: 80s - FDJ / communist party youth organisation (Mainstream, E)\n",
    "- 13: 80s - Swords into ploughshares (Avantgarde, E)\n",
    "- 14: 90s - digital media kids (Mainstream, E+W)\n",
    "- 15: 90s - ecological awareness (Avantgarde, E+W)\n",
    "\n",
    "### 4.3. CAMEO_INTL_2015\n",
    "German CAMEO: Wealth / Life Stage Typology, mapped to international code\n",
    "- -1: unknown\n",
    "- 11: Wealthy Households - Pre-Family Couples & Singles\n",
    "- 12: Wealthy Households - Young Couples With Children\n",
    "- 13: Wealthy Households - Families With School Age Children\n",
    "- 14: Wealthy Households - Older Families &  Mature Couples\n",
    "- 15: Wealthy Households - Elders In Retirement\n",
    "- 21: Prosperous Households - Pre-Family Couples & Singles\n",
    "- 22: Prosperous Households - Young Couples With Children\n",
    "- 23: Prosperous Households - Families With School Age Children\n",
    "- 24: Prosperous Households - Older Families & Mature Couples\n",
    "- 25: Prosperous Households - Elders In Retirement\n",
    "- 31: Comfortable Households - Pre-Family Couples & Singles\n",
    "- 32: Comfortable Households - Young Couples With Children\n",
    "- 33: Comfortable Households - Families With School Age Children\n",
    "- 34: Comfortable Households - Older Families & Mature Couples\n",
    "- 35: Comfortable Households - Elders In Retirement\n",
    "- 41: Less Affluent Households - Pre-Family Couples & Singles\n",
    "- 42: Less Affluent Households - Young Couples With Children\n",
    "- 43: Less Affluent Households - Families With School Age Children\n",
    "- 44: Less Affluent Households - Older Families & Mature Couples\n",
    "- 45: Less Affluent Households - Elders In Retirement\n",
    "- 51: Poorer Households - Pre-Family Couples & Singles\n",
    "- 52: Poorer Households - Young Couples With Children\n",
    "- 53: Poorer Households - Families With School Age Children\n",
    "- 54: Poorer Households - Older Families & Mature Couples\n",
    "- 55: Poorer Households - Elders In Retirement\n",
    "- XX: unknown"
   ]
  },
  {
   "cell_type": "code",
   "execution_count": 125,
   "metadata": {},
   "outputs": [
    {
     "data": {
      "text/plain": [
       "14.0    182961\n",
       "8.0     141596\n",
       "10.0     85789\n",
       "5.0      84681\n",
       "3.0      53836\n",
       "15.0     42537\n",
       "11.0     35741\n",
       "9.0      33565\n",
       "6.0      25652\n",
       "12.0     24445\n",
       "1.0      20678\n",
       "4.0      20450\n",
       "2.0       7479\n",
       "13.0      5762\n",
       "7.0       4009\n",
       "Name: PRAEGENDE_JUGENDJAHRE, dtype: int64"
      ]
     },
     "execution_count": 125,
     "metadata": {},
     "output_type": "execute_result"
    }
   ],
   "source": [
    "azdias_subset1['PRAEGENDE_JUGENDJAHRE'].value_counts()"
   ]
  },
  {
   "cell_type": "code",
   "execution_count": 126,
   "metadata": {},
   "outputs": [],
   "source": [
    "# maping int numbers to decades \n",
    "# for example 1-->the 40s \n",
    "decade_dict = {1:1,2:1,3:2,4:2,5:3,6:3,7:3,8:4,9:4,10:5,11:5,12:5,13:5,14:6,15:6}"
   ]
  },
  {
   "cell_type": "code",
   "execution_count": 127,
   "metadata": {},
   "outputs": [],
   "source": [
    "azdias_subset1[\"DECADE\"] = azdias_subset1['PRAEGENDE_JUGENDJAHRE']\n",
    "azdias_subset1[\"DECADE\"].replace(decade_dict,inplace=True)"
   ]
  },
  {
   "cell_type": "code",
   "execution_count": 128,
   "metadata": {},
   "outputs": [
    {
     "data": {
      "text/plain": [
       "6.0    225498\n",
       "4.0    175161\n",
       "5.0    151737\n",
       "3.0    114342\n",
       "2.0     74286\n",
       "1.0     28157\n",
       "Name: DECADE, dtype: int64"
      ]
     },
     "execution_count": 128,
     "metadata": {},
     "output_type": "execute_result"
    }
   ],
   "source": [
    "azdias_subset1[\"DECADE\"].value_counts()"
   ]
  },
  {
   "cell_type": "code",
   "execution_count": 129,
   "metadata": {},
   "outputs": [],
   "source": [
    "# avantgarde 0 vs. mainstream 1\n",
    "movement_dict={1:1,2:0,3:1,4:0,5:1,6:0,7:0,8:1,9:0,10:1,11:0,12:1,13:0,14:1,15:0}"
   ]
  },
  {
   "cell_type": "code",
   "execution_count": 130,
   "metadata": {},
   "outputs": [],
   "source": [
    "azdias_subset1[\"MOVEMENT\"] = azdias_subset1['PRAEGENDE_JUGENDJAHRE']\n",
    "azdias_subset1[\"MOVEMENT\"].replace(movement_dict,inplace=True)"
   ]
  },
  {
   "cell_type": "code",
   "execution_count": 131,
   "metadata": {},
   "outputs": [
    {
     "data": {
      "text/plain": [
       "1.0    593986\n",
       "0.0    175195\n",
       "Name: MOVEMENT, dtype: int64"
      ]
     },
     "execution_count": 131,
     "metadata": {},
     "output_type": "execute_result"
    }
   ],
   "source": [
    "azdias_subset1[\"MOVEMENT\"].value_counts()"
   ]
  },
  {
   "cell_type": "code",
   "execution_count": 132,
   "metadata": {},
   "outputs": [
    {
     "data": {
      "text/plain": [
       "1    14.0\n",
       "2    15.0\n",
       "3     8.0\n",
       "4     8.0\n",
       "5     3.0\n",
       "Name: PRAEGENDE_JUGENDJAHRE, dtype: float64"
      ]
     },
     "execution_count": 132,
     "metadata": {},
     "output_type": "execute_result"
    }
   ],
   "source": [
    "# Investigate \"PRAEGENDE_JUGENDJAHRE\" and engineer two new variables.\n",
    "azdias_subset1['PRAEGENDE_JUGENDJAHRE'].head()\n"
   ]
  },
  {
   "cell_type": "code",
   "execution_count": null,
   "metadata": {},
   "outputs": [],
   "source": []
  },
  {
   "cell_type": "code",
   "execution_count": 133,
   "metadata": {},
   "outputs": [
    {
     "data": {
      "text/plain": [
       "51    133690\n",
       "41     92333\n",
       "24     91141\n",
       "14     62878\n",
       "43     56667\n",
       "54     45389\n",
       "25     39623\n",
       "22     33145\n",
       "23     26730\n",
       "13     26330\n",
       "45     26131\n",
       "55     23954\n",
       "52     20542\n",
       "31     19014\n",
       "34     18522\n",
       "15     16973\n",
       "44     14820\n",
       "12     13245\n",
       "35     10355\n",
       "32     10354\n",
       "33      9935\n",
       "Name: CAMEO_INTL_2015, dtype: int64"
      ]
     },
     "execution_count": 133,
     "metadata": {},
     "output_type": "execute_result"
    }
   ],
   "source": [
    "# Investigate \"CAMEO_INTL_2015\" and engineer two new variables.\n",
    "azdias_subset1['CAMEO_INTL_2015'].value_counts()"
   ]
  },
  {
   "cell_type": "code",
   "execution_count": 134,
   "metadata": {},
   "outputs": [],
   "source": [
    "#Wealth and Life Stage dict\n",
    "wealth_dict={'11':1,'12':1,'13':1,'14':1,'15':1,\n",
    "            '21':2,'22':2,'23':2,'24':2,'25':2,\n",
    "            '31':3,'32':3,'33':3,'34':3,'35':3,\n",
    "            '41':4,'42':4,'43':4,'44':4,'45':4,\n",
    "            '51':5,'52':5,'53':5,'54':5,'55':5\n",
    "            }\n",
    "life_dict={'11':1,'12':2,'13':3,'14':4,'15':5,\n",
    "            '21':1,'22':2,'23':3,'24':4,'25':5,\n",
    "            '31':1,'32':2,'33':4,'34':4,'35':5,\n",
    "            '41':1,'42':2,'43':3,'44':4,'45':5,\n",
    "            '51':1,'52':2,'53':3,'54':4,'55':5\n",
    "            }\n",
    "\n",
    "#create two features\n",
    "azdias_subset1[\"WEALTH\"] = azdias_subset1[\"CAMEO_INTL_2015\"]\n",
    "azdias_subset1[\"LIFE_STAGE\"] = azdias_subset1[\"CAMEO_INTL_2015\"]\n",
    "#replace with new variables\n",
    "azdias_subset1[\"WEALTH\"].replace(wealth_dict,inplace=True)\n",
    "azdias_subset1[\"LIFE_STAGE\"].replace(life_dict,inplace=True)"
   ]
  },
  {
   "cell_type": "code",
   "execution_count": 135,
   "metadata": {},
   "outputs": [],
   "source": [
    "# dropping redundant columns\n",
    "azdias_subset1.drop(\"PRAEGENDE_JUGENDJAHRE\",axis=1,inplace=True)\n",
    "azdias_subset1.drop(\"CAMEO_INTL_2015\",axis=1,inplace=True)"
   ]
  },
  {
   "cell_type": "markdown",
   "metadata": {},
   "source": [
    "#### Discussion 1.2.2: Engineer Mixed-Type Features\n",
    "\n",
    "(Double-click this cell and replace this text with your own text, reporting your findings and decisions regarding mixed-value features. Which ones did you keep, which did you drop, and what engineering steps did you perform?)\n",
    "\n",
    "The feature extractions have been applied as \"PRAEGENDE_JUGENDJAHRE\" and \"CAMEO_INTL_2015\" allowed to obtain additional information and variables."
   ]
  },
  {
   "cell_type": "markdown",
   "metadata": {},
   "source": [
    "#### Step 1.2.3: Complete Feature Selection\n",
    "\n",
    "In order to finish this step up, you need to make sure that your data frame now only has the columns that you want to keep. To summarize, the dataframe should consist of the following:\n",
    "- All numeric, interval, and ordinal type columns from the original dataset.\n",
    "- Binary categorical features (all numerically-encoded).\n",
    "- Engineered features from other multi-level categorical features and mixed features.\n",
    "\n",
    "Make sure that for any new columns that you have engineered, that you've excluded the original columns from the final dataset. Otherwise, their values will interfere with the analysis later on the project. For example, you should not keep \"PRAEGENDE_JUGENDJAHRE\", since its values won't be useful for the algorithm: only the values derived from it in the engineered features you created should be retained. As a reminder, your data should only be from **the subset with few or no missing values**."
   ]
  },
  {
   "cell_type": "code",
   "execution_count": 136,
   "metadata": {},
   "outputs": [],
   "source": [
    "# If there are other re-engineering tasks you need to perform, make sure you\n",
    "# take care of them here. (Dealing with missing data will come in step 2.1.)\n",
    "mixed_variables=feat_info[feat_info.type==\"mixed\"]\n",
    "for mixed_feature in mixed_variables[\"attribute\"]:\n",
    "    if mixed_feature in azdias_subset1.columns:\n",
    "        azdias_subset1.drop(mixed_feature,axis=1,inplace=True)\n"
   ]
  },
  {
   "cell_type": "code",
   "execution_count": 137,
   "metadata": {},
   "outputs": [
    {
     "data": {
      "text/html": [
       "<div>\n",
       "<style scoped>\n",
       "    .dataframe tbody tr th:only-of-type {\n",
       "        vertical-align: middle;\n",
       "    }\n",
       "\n",
       "    .dataframe tbody tr th {\n",
       "        vertical-align: top;\n",
       "    }\n",
       "\n",
       "    .dataframe thead th {\n",
       "        text-align: right;\n",
       "    }\n",
       "</style>\n",
       "<table border=\"1\" class=\"dataframe\">\n",
       "  <thead>\n",
       "    <tr style=\"text-align: right;\">\n",
       "      <th></th>\n",
       "      <th>ALTERSKATEGORIE_GROB</th>\n",
       "      <th>ANREDE_KZ</th>\n",
       "      <th>FINANZ_MINIMALIST</th>\n",
       "      <th>FINANZ_SPARER</th>\n",
       "      <th>FINANZ_VORSORGER</th>\n",
       "      <th>FINANZ_ANLEGER</th>\n",
       "      <th>FINANZ_UNAUFFAELLIGER</th>\n",
       "      <th>FINANZ_HAUSBAUER</th>\n",
       "      <th>GREEN_AVANTGARDE</th>\n",
       "      <th>HEALTH_TYP</th>\n",
       "      <th>...</th>\n",
       "      <th>CAMEO_DEU_2015_8D</th>\n",
       "      <th>CAMEO_DEU_2015_9A</th>\n",
       "      <th>CAMEO_DEU_2015_9B</th>\n",
       "      <th>CAMEO_DEU_2015_9C</th>\n",
       "      <th>CAMEO_DEU_2015_9D</th>\n",
       "      <th>CAMEO_DEU_2015_9E</th>\n",
       "      <th>DECADE</th>\n",
       "      <th>MOVEMENT</th>\n",
       "      <th>WEALTH</th>\n",
       "      <th>LIFE_STAGE</th>\n",
       "    </tr>\n",
       "  </thead>\n",
       "  <tbody>\n",
       "    <tr>\n",
       "      <th>count</th>\n",
       "      <td>795072.000000</td>\n",
       "      <td>797872.000000</td>\n",
       "      <td>797872.00000</td>\n",
       "      <td>797872.000000</td>\n",
       "      <td>797872.000000</td>\n",
       "      <td>797872.000000</td>\n",
       "      <td>797872.000000</td>\n",
       "      <td>797872.000000</td>\n",
       "      <td>797872.000000</td>\n",
       "      <td>761209.000000</td>\n",
       "      <td>...</td>\n",
       "      <td>797872.000000</td>\n",
       "      <td>797872.000000</td>\n",
       "      <td>797872.000000</td>\n",
       "      <td>797872.000000</td>\n",
       "      <td>797872.000000</td>\n",
       "      <td>797872.000000</td>\n",
       "      <td>769181.000000</td>\n",
       "      <td>769181.000000</td>\n",
       "      <td>791771.00000</td>\n",
       "      <td>791771.000000</td>\n",
       "    </tr>\n",
       "    <tr>\n",
       "      <th>mean</th>\n",
       "      <td>2.795386</td>\n",
       "      <td>0.478522</td>\n",
       "      <td>3.05883</td>\n",
       "      <td>2.715986</td>\n",
       "      <td>3.432913</td>\n",
       "      <td>2.840899</td>\n",
       "      <td>2.658070</td>\n",
       "      <td>3.114452</td>\n",
       "      <td>0.219578</td>\n",
       "      <td>2.199074</td>\n",
       "      <td>...</td>\n",
       "      <td>0.022029</td>\n",
       "      <td>0.025746</td>\n",
       "      <td>0.034686</td>\n",
       "      <td>0.031317</td>\n",
       "      <td>0.035837</td>\n",
       "      <td>0.007994</td>\n",
       "      <td>4.331974</td>\n",
       "      <td>0.772232</td>\n",
       "      <td>3.26221</td>\n",
       "      <td>2.885569</td>\n",
       "    </tr>\n",
       "    <tr>\n",
       "      <th>std</th>\n",
       "      <td>1.018448</td>\n",
       "      <td>0.499539</td>\n",
       "      <td>1.37756</td>\n",
       "      <td>1.485101</td>\n",
       "      <td>1.376910</td>\n",
       "      <td>1.472761</td>\n",
       "      <td>1.399459</td>\n",
       "      <td>1.408003</td>\n",
       "      <td>0.413961</td>\n",
       "      <td>0.755159</td>\n",
       "      <td>...</td>\n",
       "      <td>0.146777</td>\n",
       "      <td>0.158377</td>\n",
       "      <td>0.182983</td>\n",
       "      <td>0.174173</td>\n",
       "      <td>0.185883</td>\n",
       "      <td>0.089050</td>\n",
       "      <td>1.457449</td>\n",
       "      <td>0.419393</td>\n",
       "      <td>1.46450</td>\n",
       "      <td>1.490037</td>\n",
       "    </tr>\n",
       "    <tr>\n",
       "      <th>min</th>\n",
       "      <td>1.000000</td>\n",
       "      <td>0.000000</td>\n",
       "      <td>1.00000</td>\n",
       "      <td>1.000000</td>\n",
       "      <td>1.000000</td>\n",
       "      <td>1.000000</td>\n",
       "      <td>1.000000</td>\n",
       "      <td>1.000000</td>\n",
       "      <td>0.000000</td>\n",
       "      <td>1.000000</td>\n",
       "      <td>...</td>\n",
       "      <td>0.000000</td>\n",
       "      <td>0.000000</td>\n",
       "      <td>0.000000</td>\n",
       "      <td>0.000000</td>\n",
       "      <td>0.000000</td>\n",
       "      <td>0.000000</td>\n",
       "      <td>1.000000</td>\n",
       "      <td>0.000000</td>\n",
       "      <td>1.00000</td>\n",
       "      <td>1.000000</td>\n",
       "    </tr>\n",
       "    <tr>\n",
       "      <th>25%</th>\n",
       "      <td>2.000000</td>\n",
       "      <td>0.000000</td>\n",
       "      <td>2.00000</td>\n",
       "      <td>1.000000</td>\n",
       "      <td>2.000000</td>\n",
       "      <td>1.000000</td>\n",
       "      <td>1.000000</td>\n",
       "      <td>2.000000</td>\n",
       "      <td>0.000000</td>\n",
       "      <td>2.000000</td>\n",
       "      <td>...</td>\n",
       "      <td>0.000000</td>\n",
       "      <td>0.000000</td>\n",
       "      <td>0.000000</td>\n",
       "      <td>0.000000</td>\n",
       "      <td>0.000000</td>\n",
       "      <td>0.000000</td>\n",
       "      <td>3.000000</td>\n",
       "      <td>1.000000</td>\n",
       "      <td>2.00000</td>\n",
       "      <td>1.000000</td>\n",
       "    </tr>\n",
       "    <tr>\n",
       "      <th>50%</th>\n",
       "      <td>3.000000</td>\n",
       "      <td>0.000000</td>\n",
       "      <td>3.00000</td>\n",
       "      <td>3.000000</td>\n",
       "      <td>4.000000</td>\n",
       "      <td>3.000000</td>\n",
       "      <td>2.000000</td>\n",
       "      <td>3.000000</td>\n",
       "      <td>0.000000</td>\n",
       "      <td>2.000000</td>\n",
       "      <td>...</td>\n",
       "      <td>0.000000</td>\n",
       "      <td>0.000000</td>\n",
       "      <td>0.000000</td>\n",
       "      <td>0.000000</td>\n",
       "      <td>0.000000</td>\n",
       "      <td>0.000000</td>\n",
       "      <td>4.000000</td>\n",
       "      <td>1.000000</td>\n",
       "      <td>4.00000</td>\n",
       "      <td>3.000000</td>\n",
       "    </tr>\n",
       "    <tr>\n",
       "      <th>75%</th>\n",
       "      <td>4.000000</td>\n",
       "      <td>1.000000</td>\n",
       "      <td>4.00000</td>\n",
       "      <td>4.000000</td>\n",
       "      <td>5.000000</td>\n",
       "      <td>4.000000</td>\n",
       "      <td>4.000000</td>\n",
       "      <td>4.000000</td>\n",
       "      <td>0.000000</td>\n",
       "      <td>3.000000</td>\n",
       "      <td>...</td>\n",
       "      <td>0.000000</td>\n",
       "      <td>0.000000</td>\n",
       "      <td>0.000000</td>\n",
       "      <td>0.000000</td>\n",
       "      <td>0.000000</td>\n",
       "      <td>0.000000</td>\n",
       "      <td>6.000000</td>\n",
       "      <td>1.000000</td>\n",
       "      <td>5.00000</td>\n",
       "      <td>4.000000</td>\n",
       "    </tr>\n",
       "    <tr>\n",
       "      <th>max</th>\n",
       "      <td>4.000000</td>\n",
       "      <td>1.000000</td>\n",
       "      <td>5.00000</td>\n",
       "      <td>5.000000</td>\n",
       "      <td>5.000000</td>\n",
       "      <td>5.000000</td>\n",
       "      <td>5.000000</td>\n",
       "      <td>5.000000</td>\n",
       "      <td>1.000000</td>\n",
       "      <td>3.000000</td>\n",
       "      <td>...</td>\n",
       "      <td>1.000000</td>\n",
       "      <td>1.000000</td>\n",
       "      <td>1.000000</td>\n",
       "      <td>1.000000</td>\n",
       "      <td>1.000000</td>\n",
       "      <td>1.000000</td>\n",
       "      <td>6.000000</td>\n",
       "      <td>1.000000</td>\n",
       "      <td>5.00000</td>\n",
       "      <td>5.000000</td>\n",
       "    </tr>\n",
       "  </tbody>\n",
       "</table>\n",
       "<p>8 rows × 189 columns</p>\n",
       "</div>"
      ],
      "text/plain": [
       "       ALTERSKATEGORIE_GROB      ANREDE_KZ  FINANZ_MINIMALIST  FINANZ_SPARER  \\\n",
       "count         795072.000000  797872.000000       797872.00000  797872.000000   \n",
       "mean               2.795386       0.478522            3.05883       2.715986   \n",
       "std                1.018448       0.499539            1.37756       1.485101   \n",
       "min                1.000000       0.000000            1.00000       1.000000   \n",
       "25%                2.000000       0.000000            2.00000       1.000000   \n",
       "50%                3.000000       0.000000            3.00000       3.000000   \n",
       "75%                4.000000       1.000000            4.00000       4.000000   \n",
       "max                4.000000       1.000000            5.00000       5.000000   \n",
       "\n",
       "       FINANZ_VORSORGER  FINANZ_ANLEGER  FINANZ_UNAUFFAELLIGER  \\\n",
       "count     797872.000000   797872.000000          797872.000000   \n",
       "mean           3.432913        2.840899               2.658070   \n",
       "std            1.376910        1.472761               1.399459   \n",
       "min            1.000000        1.000000               1.000000   \n",
       "25%            2.000000        1.000000               1.000000   \n",
       "50%            4.000000        3.000000               2.000000   \n",
       "75%            5.000000        4.000000               4.000000   \n",
       "max            5.000000        5.000000               5.000000   \n",
       "\n",
       "       FINANZ_HAUSBAUER  GREEN_AVANTGARDE     HEALTH_TYP      ...        \\\n",
       "count     797872.000000     797872.000000  761209.000000      ...         \n",
       "mean           3.114452          0.219578       2.199074      ...         \n",
       "std            1.408003          0.413961       0.755159      ...         \n",
       "min            1.000000          0.000000       1.000000      ...         \n",
       "25%            2.000000          0.000000       2.000000      ...         \n",
       "50%            3.000000          0.000000       2.000000      ...         \n",
       "75%            4.000000          0.000000       3.000000      ...         \n",
       "max            5.000000          1.000000       3.000000      ...         \n",
       "\n",
       "       CAMEO_DEU_2015_8D  CAMEO_DEU_2015_9A  CAMEO_DEU_2015_9B  \\\n",
       "count      797872.000000      797872.000000      797872.000000   \n",
       "mean            0.022029           0.025746           0.034686   \n",
       "std             0.146777           0.158377           0.182983   \n",
       "min             0.000000           0.000000           0.000000   \n",
       "25%             0.000000           0.000000           0.000000   \n",
       "50%             0.000000           0.000000           0.000000   \n",
       "75%             0.000000           0.000000           0.000000   \n",
       "max             1.000000           1.000000           1.000000   \n",
       "\n",
       "       CAMEO_DEU_2015_9C  CAMEO_DEU_2015_9D  CAMEO_DEU_2015_9E         DECADE  \\\n",
       "count      797872.000000      797872.000000      797872.000000  769181.000000   \n",
       "mean            0.031317           0.035837           0.007994       4.331974   \n",
       "std             0.174173           0.185883           0.089050       1.457449   \n",
       "min             0.000000           0.000000           0.000000       1.000000   \n",
       "25%             0.000000           0.000000           0.000000       3.000000   \n",
       "50%             0.000000           0.000000           0.000000       4.000000   \n",
       "75%             0.000000           0.000000           0.000000       6.000000   \n",
       "max             1.000000           1.000000           1.000000       6.000000   \n",
       "\n",
       "            MOVEMENT        WEALTH     LIFE_STAGE  \n",
       "count  769181.000000  791771.00000  791771.000000  \n",
       "mean        0.772232       3.26221       2.885569  \n",
       "std         0.419393       1.46450       1.490037  \n",
       "min         0.000000       1.00000       1.000000  \n",
       "25%         1.000000       2.00000       1.000000  \n",
       "50%         1.000000       4.00000       3.000000  \n",
       "75%         1.000000       5.00000       4.000000  \n",
       "max         1.000000       5.00000       5.000000  \n",
       "\n",
       "[8 rows x 189 columns]"
      ]
     },
     "execution_count": 137,
     "metadata": {},
     "output_type": "execute_result"
    }
   ],
   "source": [
    "# Do whatever you need to in order to ensure that the dataframe only contains\n",
    "# the columns that should be passed to the algorithm functions.\n",
    "\n",
    "azdias_subset1.describe()"
   ]
  },
  {
   "cell_type": "markdown",
   "metadata": {},
   "source": [
    "### Step 1.3: Create a Cleaning Function\n",
    "\n",
    "Even though you've finished cleaning up the general population demographics data, it's important to look ahead to the future and realize that you'll need to perform the same cleaning steps on the customer demographics data. In this substep, complete the function below to execute the main feature selection, encoding, and re-engineering steps you performed above. Then, when it comes to looking at the customer data in Step 3, you can just run this function on that DataFrame to get the trimmed dataset in a single step."
   ]
  },
  {
   "cell_type": "code",
   "execution_count": null,
   "metadata": {},
   "outputs": [],
   "source": []
  },
  {
   "cell_type": "code",
   "execution_count": null,
   "metadata": {},
   "outputs": [],
   "source": []
  },
  {
   "cell_type": "code",
   "execution_count": null,
   "metadata": {},
   "outputs": [],
   "source": []
  },
  {
   "cell_type": "code",
   "execution_count": 138,
   "metadata": {},
   "outputs": [],
   "source": [
    "def clean_data(df, feat_info):\n",
    "    \"\"\"\n",
    "    Perform feature trimming, re-encoding, and engineering for demographics\n",
    "    data\n",
    "    \n",
    "    INPUT: Demographics DataFrame\n",
    "    OUTPUT: Trimmed and cleaned demographics DataFrame\n",
    "    \"\"\"\n",
    "    aux_df = df.copy()\n",
    "    # Put in code here to execute all main cleaning steps:\n",
    "    # convert missing value codes into NaNs, ...\n",
    "    missing_or_unknown = feat_info.iloc[0]['missing_or_unknown']\n",
    "    feat_info['missing_or_unknown'] = feat_info['missing_or_unknown'].str.extract(r\"\\[(.*)\\]\", expand=False).str.split(\",\")\n",
    "    for indx in range(len(feat_info)): #\n",
    "        column_name = feat_info.iloc[indx]['attribute']\n",
    "        missing_or_unknown = to_int_list(feat_info.iloc[indx]['missing_or_unknown'])\n",
    "        for el in missing_or_unknown:\n",
    "            aux_df[column_name] = aux_df[column_name].replace(el,np.nan)\n",
    "    # Assess Missing Data in Each Column\n",
    "    null_values = aux_df.isnull().mean()\n",
    "    percentile90th = null_values.quantile(0.9)\n",
    "    outlier_columns_toremove = list(null_values[null_values>percentile90th].index)\n",
    "    aux_df = aux_df.drop(columns=outlier_columns_toremove, axis=1)\n",
    "    #Missing Data in Each Row\n",
    "    missing_values_rows = aux_df.isnull().mean(axis=1)\n",
    "    aux_df = aux_df[missing_values_rows<0.3]\n",
    "    #  Re-Encode Categorical Features\n",
    "    column_names = aux_df.columns.tolist()\n",
    "    subste_feat_info = feat_info[feat_info[\"attribute\"].isin(column_names)]\n",
    "    binary_vars = []\n",
    "    multi_level = []\n",
    "    for col in categ_vars['attribute']:\n",
    "        if aux_df[col].nunique() == 2:\n",
    "            binary_vars.append(col)\n",
    "            print(aux_df[col].value_counts())\n",
    "        else:\n",
    "            multi_level.append(col)\n",
    "    # Re-encode categorical variable(s) to be kept in the analysis.\n",
    "    aux_df[\"ANREDE_KZ\"].replace({2:0,1:1},inplace=True)\n",
    "    aux_df[\"SOHO_KZ\"].replace({0.0:0,1.0:1},inplace=True)\n",
    "    aux_df[\"VERS_TYP\"].replace({1.0:0,2.0:1},inplace=True)\n",
    "    #non numerical variables\n",
    "    aux_df[\"OST_WEST_KZ\"].replace({'W':0,'O':1},inplace=True)\n",
    "    aux_df[\"OST_WEST_KZ\"].astype('int',inplace=True)\n",
    "    aux_df = pd.get_dummies(aux_df, columns = multi_level)\n",
    "    # remove selected columns and rows, ...\n",
    "    \n",
    "    \n",
    "    # select, re-encode, and engineer column values.\n",
    "    decade_dict = {1:1,2:1,3:2,4:2,5:3,6:3,7:3,8:4,9:4,10:5,11:5,12:5,13:5,14:6,15:6}\n",
    "    aux_df[\"DECADE\"] = aux_df['PRAEGENDE_JUGENDJAHRE']\n",
    "    aux_df[\"DECADE\"].replace(decade_dict,inplace=True)\n",
    "    movement_dict={1:1,2:0,3:1,4:0,5:1,6:0,7:0,8:1,9:0,10:1,11:0,12:1,13:0,14:1,15:0}\n",
    "    aux_df[\"MOVEMENT\"] = aux_df['PRAEGENDE_JUGENDJAHRE']\n",
    "    aux_df[\"MOVEMENT\"].replace(movement_dict,inplace=True)\n",
    "    \n",
    "    wealth_dict={'11':1,'12':1,'13':1,'14':1,'15':1,\n",
    "            '21':2,'22':2,'23':2,'24':2,'25':2,\n",
    "            '31':3,'32':3,'33':3,'34':3,'35':3,\n",
    "            '41':4,'42':4,'43':4,'44':4,'45':4,\n",
    "            '51':5,'52':5,'53':5,'54':5,'55':5\n",
    "            }\n",
    "    life_dict={'11':1,'12':2,'13':3,'14':4,'15':5,\n",
    "            '21':1,'22':2,'23':3,'24':4,'25':5,\n",
    "            '31':1,'32':2,'33':4,'34':4,'35':5,\n",
    "            '41':1,'42':2,'43':3,'44':4,'45':5,\n",
    "            '51':1,'52':2,'53':3,'54':4,'55':5\n",
    "            }\n",
    "\n",
    "    #create two features\n",
    "    aux_df[\"WEALTH\"] = aux_df[\"CAMEO_INTL_2015\"]\n",
    "    aux_df[\"LIFE_STAGE\"] = aux_df[\"CAMEO_INTL_2015\"]\n",
    "    #replace with new variables\n",
    "    aux_df[\"WEALTH\"].replace(wealth_dict,inplace=True)\n",
    "    aux_df[\"LIFE_STAGE\"].replace(life_dict,inplace=True)\n",
    "\n",
    "    aux_df.drop(\"PRAEGENDE_JUGENDJAHRE\",axis=1,inplace=True)\n",
    "    aux_df.drop(\"CAMEO_INTL_2015\",axis=1,inplace=True)\n",
    "    \n",
    "    mixed_variables=feat_info[feat_info.type==\"mixed\"]\n",
    "    for mixed_feature in mixed_variables[\"attribute\"]:\n",
    "        if mixed_feature in aux_df.columns:\n",
    "            aux_df.drop(mixed_feature,axis=1,inplace=True)\n",
    "    # Return the cleaned dataframe.\n",
    "    \n",
    "    return aux_df\n",
    "    \n",
    "    "
   ]
  },
  {
   "cell_type": "code",
   "execution_count": 139,
   "metadata": {},
   "outputs": [
    {
     "name": "stdout",
     "output_type": "stream",
     "text": [
      "2    416073\n",
      "1    381799\n",
      "Name: ANREDE_KZ, dtype: int64\n",
      "0    622677\n",
      "1    175195\n",
      "Name: GREEN_AVANTGARDE, dtype: int64\n",
      "0.0    791157\n",
      "1.0      6715\n",
      "Name: SOHO_KZ, dtype: int64\n",
      "2.0    394202\n",
      "1.0    367007\n",
      "Name: VERS_TYP, dtype: int64\n",
      "W    629356\n",
      "O    168516\n",
      "Name: OST_WEST_KZ, dtype: int64\n"
     ]
    },
    {
     "data": {
      "text/html": [
       "<div>\n",
       "<style scoped>\n",
       "    .dataframe tbody tr th:only-of-type {\n",
       "        vertical-align: middle;\n",
       "    }\n",
       "\n",
       "    .dataframe tbody tr th {\n",
       "        vertical-align: top;\n",
       "    }\n",
       "\n",
       "    .dataframe thead th {\n",
       "        text-align: right;\n",
       "    }\n",
       "</style>\n",
       "<table border=\"1\" class=\"dataframe\">\n",
       "  <thead>\n",
       "    <tr style=\"text-align: right;\">\n",
       "      <th></th>\n",
       "      <th>ALTERSKATEGORIE_GROB</th>\n",
       "      <th>ANREDE_KZ</th>\n",
       "      <th>FINANZ_MINIMALIST</th>\n",
       "      <th>FINANZ_SPARER</th>\n",
       "      <th>FINANZ_VORSORGER</th>\n",
       "      <th>FINANZ_ANLEGER</th>\n",
       "      <th>FINANZ_UNAUFFAELLIGER</th>\n",
       "      <th>FINANZ_HAUSBAUER</th>\n",
       "      <th>GREEN_AVANTGARDE</th>\n",
       "      <th>HEALTH_TYP</th>\n",
       "      <th>...</th>\n",
       "      <th>CAMEO_DEU_2015_8D</th>\n",
       "      <th>CAMEO_DEU_2015_9A</th>\n",
       "      <th>CAMEO_DEU_2015_9B</th>\n",
       "      <th>CAMEO_DEU_2015_9C</th>\n",
       "      <th>CAMEO_DEU_2015_9D</th>\n",
       "      <th>CAMEO_DEU_2015_9E</th>\n",
       "      <th>DECADE</th>\n",
       "      <th>MOVEMENT</th>\n",
       "      <th>WEALTH</th>\n",
       "      <th>LIFE_STAGE</th>\n",
       "    </tr>\n",
       "  </thead>\n",
       "  <tbody>\n",
       "    <tr>\n",
       "      <th>1</th>\n",
       "      <td>1.0</td>\n",
       "      <td>0</td>\n",
       "      <td>1</td>\n",
       "      <td>5</td>\n",
       "      <td>2</td>\n",
       "      <td>5</td>\n",
       "      <td>4</td>\n",
       "      <td>5</td>\n",
       "      <td>0</td>\n",
       "      <td>3.0</td>\n",
       "      <td>...</td>\n",
       "      <td>0</td>\n",
       "      <td>0</td>\n",
       "      <td>0</td>\n",
       "      <td>0</td>\n",
       "      <td>0</td>\n",
       "      <td>0</td>\n",
       "      <td>6.0</td>\n",
       "      <td>1.0</td>\n",
       "      <td>5.0</td>\n",
       "      <td>1.0</td>\n",
       "    </tr>\n",
       "    <tr>\n",
       "      <th>2</th>\n",
       "      <td>3.0</td>\n",
       "      <td>0</td>\n",
       "      <td>1</td>\n",
       "      <td>4</td>\n",
       "      <td>1</td>\n",
       "      <td>2</td>\n",
       "      <td>3</td>\n",
       "      <td>5</td>\n",
       "      <td>1</td>\n",
       "      <td>3.0</td>\n",
       "      <td>...</td>\n",
       "      <td>0</td>\n",
       "      <td>0</td>\n",
       "      <td>0</td>\n",
       "      <td>0</td>\n",
       "      <td>0</td>\n",
       "      <td>0</td>\n",
       "      <td>6.0</td>\n",
       "      <td>0.0</td>\n",
       "      <td>2.0</td>\n",
       "      <td>4.0</td>\n",
       "    </tr>\n",
       "    <tr>\n",
       "      <th>3</th>\n",
       "      <td>4.0</td>\n",
       "      <td>0</td>\n",
       "      <td>4</td>\n",
       "      <td>2</td>\n",
       "      <td>5</td>\n",
       "      <td>2</td>\n",
       "      <td>1</td>\n",
       "      <td>2</td>\n",
       "      <td>0</td>\n",
       "      <td>2.0</td>\n",
       "      <td>...</td>\n",
       "      <td>0</td>\n",
       "      <td>0</td>\n",
       "      <td>0</td>\n",
       "      <td>0</td>\n",
       "      <td>0</td>\n",
       "      <td>0</td>\n",
       "      <td>4.0</td>\n",
       "      <td>1.0</td>\n",
       "      <td>1.0</td>\n",
       "      <td>2.0</td>\n",
       "    </tr>\n",
       "    <tr>\n",
       "      <th>4</th>\n",
       "      <td>3.0</td>\n",
       "      <td>1</td>\n",
       "      <td>4</td>\n",
       "      <td>3</td>\n",
       "      <td>4</td>\n",
       "      <td>1</td>\n",
       "      <td>3</td>\n",
       "      <td>2</td>\n",
       "      <td>0</td>\n",
       "      <td>3.0</td>\n",
       "      <td>...</td>\n",
       "      <td>0</td>\n",
       "      <td>0</td>\n",
       "      <td>0</td>\n",
       "      <td>0</td>\n",
       "      <td>0</td>\n",
       "      <td>0</td>\n",
       "      <td>4.0</td>\n",
       "      <td>1.0</td>\n",
       "      <td>4.0</td>\n",
       "      <td>3.0</td>\n",
       "    </tr>\n",
       "    <tr>\n",
       "      <th>5</th>\n",
       "      <td>1.0</td>\n",
       "      <td>0</td>\n",
       "      <td>3</td>\n",
       "      <td>1</td>\n",
       "      <td>5</td>\n",
       "      <td>2</td>\n",
       "      <td>2</td>\n",
       "      <td>5</td>\n",
       "      <td>0</td>\n",
       "      <td>3.0</td>\n",
       "      <td>...</td>\n",
       "      <td>0</td>\n",
       "      <td>0</td>\n",
       "      <td>0</td>\n",
       "      <td>0</td>\n",
       "      <td>0</td>\n",
       "      <td>0</td>\n",
       "      <td>2.0</td>\n",
       "      <td>1.0</td>\n",
       "      <td>5.0</td>\n",
       "      <td>4.0</td>\n",
       "    </tr>\n",
       "  </tbody>\n",
       "</table>\n",
       "<p>5 rows × 189 columns</p>\n",
       "</div>"
      ],
      "text/plain": [
       "   ALTERSKATEGORIE_GROB  ANREDE_KZ  FINANZ_MINIMALIST  FINANZ_SPARER  \\\n",
       "1                   1.0          0                  1              5   \n",
       "2                   3.0          0                  1              4   \n",
       "3                   4.0          0                  4              2   \n",
       "4                   3.0          1                  4              3   \n",
       "5                   1.0          0                  3              1   \n",
       "\n",
       "   FINANZ_VORSORGER  FINANZ_ANLEGER  FINANZ_UNAUFFAELLIGER  FINANZ_HAUSBAUER  \\\n",
       "1                 2               5                      4                 5   \n",
       "2                 1               2                      3                 5   \n",
       "3                 5               2                      1                 2   \n",
       "4                 4               1                      3                 2   \n",
       "5                 5               2                      2                 5   \n",
       "\n",
       "   GREEN_AVANTGARDE  HEALTH_TYP     ...      CAMEO_DEU_2015_8D  \\\n",
       "1                 0         3.0     ...                      0   \n",
       "2                 1         3.0     ...                      0   \n",
       "3                 0         2.0     ...                      0   \n",
       "4                 0         3.0     ...                      0   \n",
       "5                 0         3.0     ...                      0   \n",
       "\n",
       "   CAMEO_DEU_2015_9A  CAMEO_DEU_2015_9B  CAMEO_DEU_2015_9C  CAMEO_DEU_2015_9D  \\\n",
       "1                  0                  0                  0                  0   \n",
       "2                  0                  0                  0                  0   \n",
       "3                  0                  0                  0                  0   \n",
       "4                  0                  0                  0                  0   \n",
       "5                  0                  0                  0                  0   \n",
       "\n",
       "   CAMEO_DEU_2015_9E  DECADE  MOVEMENT  WEALTH  LIFE_STAGE  \n",
       "1                  0     6.0       1.0     5.0         1.0  \n",
       "2                  0     6.0       0.0     2.0         4.0  \n",
       "3                  0     4.0       1.0     1.0         2.0  \n",
       "4                  0     4.0       1.0     4.0         3.0  \n",
       "5                  0     2.0       1.0     5.0         4.0  \n",
       "\n",
       "[5 rows x 189 columns]"
      ]
     },
     "execution_count": 139,
     "metadata": {},
     "output_type": "execute_result"
    }
   ],
   "source": [
    "feat_info = pd.read_table(\"AZDIAS_Feature_Summary.csv\",sep=';')\n",
    "azdias_test = pd.read_csv(\"Udacity_AZDIAS_Subset.csv\" ,delimiter=\";\")\n",
    "test_df = clean_data(azdias_test,feat_info)\n",
    "test_df.head()"
   ]
  },
  {
   "cell_type": "code",
   "execution_count": 140,
   "metadata": {},
   "outputs": [
    {
     "data": {
      "text/plain": [
       "((797872, 189), (797872, 189))"
      ]
     },
     "execution_count": 140,
     "metadata": {},
     "output_type": "execute_result"
    }
   ],
   "source": [
    "azdias_subset1.shape, test_df.shape"
   ]
  },
  {
   "cell_type": "code",
   "execution_count": 141,
   "metadata": {},
   "outputs": [
    {
     "data": {
      "text/plain": [
       "True"
      ]
     },
     "execution_count": 141,
     "metadata": {},
     "output_type": "execute_result"
    }
   ],
   "source": [
    "test_df.equals(azdias_subset1)"
   ]
  },
  {
   "cell_type": "markdown",
   "metadata": {},
   "source": [
    "### As we can  our cleaning function allowed to obtain the same results as single commands."
   ]
  },
  {
   "cell_type": "markdown",
   "metadata": {},
   "source": [
    "## Step 2: Feature Transformation\n",
    "\n",
    "### Step 2.1: Apply Feature Scaling\n",
    "\n",
    "Before we apply dimensionality reduction techniques to the data, we need to perform feature scaling so that the principal component vectors are not influenced by the natural differences in scale for features. Starting from this part of the project, you'll want to keep an eye on the [API reference page for sklearn](http://scikit-learn.org/stable/modules/classes.html) to help you navigate to all of the classes and functions that you'll need. In this substep, you'll need to check the following:\n",
    "\n",
    "- sklearn requires that data not have missing values in order for its estimators to work properly. So, before applying the scaler to your data, make sure that you've cleaned the DataFrame of the remaining missing values. This can be as simple as just removing all data points with missing data, or applying an [Imputer](http://scikit-learn.org/stable/modules/generated/sklearn.preprocessing.Imputer.html) to replace all missing values. You might also try a more complicated procedure where you temporarily remove missing values in order to compute the scaling parameters before re-introducing those missing values and applying imputation. Think about how much missing data you have and what possible effects each approach might have on your analysis, and justify your decision in the discussion section below.\n",
    "- For the actual scaling function, a [StandardScaler](http://scikit-learn.org/stable/modules/generated/sklearn.preprocessing.StandardScaler.html) instance is suggested, scaling each feature to mean 0 and standard deviation 1.\n",
    "- For these classes, you can make use of the `.fit_transform()` method to both fit a procedure to the data as well as apply the transformation to the data at the same time. Don't forget to keep the fit sklearn objects handy, since you'll be applying them to the customer demographics data towards the end of the project."
   ]
  },
  {
   "cell_type": "code",
   "execution_count": 142,
   "metadata": {},
   "outputs": [],
   "source": [
    "from sklearn.preprocessing import StandardScaler, Imputer"
   ]
  },
  {
   "cell_type": "code",
   "execution_count": 143,
   "metadata": {},
   "outputs": [],
   "source": [
    "# If you've not yet cleaned the dataset of all NaN values, then investigate and\n",
    "# do that now.\n",
    "from sklearn.pipeline import Pipeline\n",
    "si = Imputer(strategy='most_frequent')\n",
    "ss = StandardScaler()\n",
    "steps = [('si', si), ('ss', ss)]\n",
    "pipe = Pipeline(steps)\n",
    "X_t = pipe.fit_transform(azdias_subset1)\n"
   ]
  },
  {
   "cell_type": "code",
   "execution_count": 144,
   "metadata": {},
   "outputs": [
    {
     "data": {
      "text/plain": [
       "array([[ -1.76654903e+00,  -9.57927467e-01,  -1.49454921e+00,\n",
       "          1.53795353e+00,  -1.04067331e+00,   1.46602367e+00,\n",
       "          9.58892431e-01,   1.33916598e+00,  -5.30431664e-01,\n",
       "          1.01017355e+00,  -1.68527219e+00,   4.43064428e-01,\n",
       "         -5.92965818e-02,   2.91478409e-03,  -4.63797316e-01,\n",
       "         -1.68459925e+00,  -1.10995008e+00,  -1.43540419e+00,\n",
       "         -5.78218517e-01,   1.27418170e+00,  -3.12107706e-01,\n",
       "          1.33923150e+00,  -1.57553887e-01,   1.51854685e+00,\n",
       "          1.28891999e+00,   1.08544627e+01,   9.22925330e-01,\n",
       "          2.34381749e-01,  -6.03841031e-02,   1.02652980e+00,\n",
       "          5.67139302e-01,   1.73008041e-01,  -1.25132886e-01,\n",
       "         -1.30446675e+00,  -3.83215734e-01,  -5.17454755e-01,\n",
       "         -1.00908465e+00,  -9.65918401e-01,  -5.94972459e-01,\n",
       "          2.73029894e+00,  -1.65910213e+00,   8.45259018e-01,\n",
       "         -5.47212979e-01,   1.70115844e+00,  -7.99693681e-01,\n",
       "         -1.28012430e+00,   1.67067065e-01,   9.43160407e-01,\n",
       "         -2.56560973e-01,   2.12008635e-01,   4.03034219e-01,\n",
       "          4.42299702e-01,   1.45559418e+00,   5.74164832e-01,\n",
       "         -1.71480508e-01,  -1.27093585e-01,   6.84823765e-01,\n",
       "         -3.63907754e-01,  -4.63832096e-01,  -4.75635931e-01,\n",
       "         -5.75053996e-01,   2.48619757e+00,  -3.83013022e-01,\n",
       "          1.74583909e+00,  -3.88740906e-01,  -2.43743479e-01,\n",
       "         -2.74523149e-01,  -3.92096266e-01,  -7.53694421e-01,\n",
       "         -2.60370853e-01,  -2.41080317e-01,  -2.67017651e-01,\n",
       "         -2.86238054e-01,  -3.11324207e-01,  -1.82574895e-01,\n",
       "         -2.31777134e-01,  -3.40807834e-01,  -2.77696219e-01,\n",
       "          2.59992100e+00,  -3.22339052e-01,  -4.41665685e-01,\n",
       "         -1.00905750e+00,  -3.75391722e-01,  -7.68788413e-02,\n",
       "         -1.21324400e-01,   8.39339568e+00,  -1.03929529e-01,\n",
       "         -1.58590879e-01,  -1.67522187e-01,  -1.15211672e-01,\n",
       "         -4.39083417e-01,  -2.55083618e-01,  -1.00905750e+00,\n",
       "         -3.75391722e-01,   5.29987064e+00,  -2.58237548e-01,\n",
       "         -5.55518160e-01,  -5.91600828e-01,   2.48628856e+00,\n",
       "         -3.07477133e-01,  -3.19654962e-01,  -1.89224598e-01,\n",
       "         -1.93834590e-01,  -1.08029209e-01,  -1.55321284e-01,\n",
       "         -4.53987505e-01,  -4.03204281e-01,   1.22858379e+00,\n",
       "         -5.21248180e-01,  -2.23922072e-01,  -4.91298224e-01,\n",
       "         -4.03204281e-01,   4.41317094e-01,  -2.94407203e-01,\n",
       "         -2.06263763e-01,  -4.35333301e-01,  -6.70322637e-01,\n",
       "         -5.89799768e-01,   1.84736699e+00,  -4.27746067e-01,\n",
       "         -2.07663230e-01,  -7.39696613e-01,  -5.92853774e-01,\n",
       "          2.97584026e+00,  -3.12190508e-01,  -1.16783006e+00,\n",
       "         -7.85922851e-02,  -5.37115095e-01,  -3.35485591e-02,\n",
       "         -1.11952465e-03,  -2.79990671e-02,   2.05741998e+00,\n",
       "         -2.18032158e-01,  -3.41240620e-01,  -3.49271126e-01,\n",
       "         -3.86910367e-01,  -2.72890905e-01,  -3.91134106e-01,\n",
       "         -3.29003482e-01,   2.22147651e+00,  -3.96035652e-01,\n",
       "         -1.17408933e-01,  -7.16134721e-02,  -7.37396949e-02,\n",
       "         -1.23088672e-01,  -7.99292958e-02,  -1.29925488e-01,\n",
       "         -1.40665496e-01,  -1.57946022e-01,  -2.14424756e-01,\n",
       "         -1.15657624e-01,  -9.51182070e-02,  -2.13428432e-01,\n",
       "         -2.11954142e-01,  -2.08188051e-01,  -1.07075255e-01,\n",
       "         -2.52473396e-01,  -1.04194116e-01,  -8.19298072e-02,\n",
       "         -1.24642945e-01,  -1.14663141e-01,  -1.12289252e-01,\n",
       "         -1.38142747e-01,  -6.71447931e-02,  -7.34556554e-02,\n",
       "         -9.27692324e-02,  -2.76500512e-01,  -1.37571604e-01,\n",
       "         -8.75778272e-02,  -1.43538769e-01,  -8.24861031e-02,\n",
       "         -2.12257416e-01,  -1.77994715e-01,  -1.07200923e-01,\n",
       "         -8.20305211e-02,  -7.64155903e-02,   3.77046433e+00,\n",
       "         -2.09133225e-01,  -2.01026729e-01,  -1.50082595e-01,\n",
       "         -1.62561856e-01,  -1.89558343e-01,  -1.79804112e-01,\n",
       "         -1.92791518e-01,  -8.97673581e-02,   1.09815374e+00,\n",
       "          5.30431664e-01,   1.17575277e+00,  -1.25295691e+00],\n",
       "       [  2.00541007e-01,  -9.57927467e-01,  -1.49454921e+00,\n",
       "          8.64598037e-01,  -1.76693754e+00,  -5.70968395e-01,\n",
       "          2.44329998e-01,   1.33916598e+00,   1.88525698e+00,\n",
       "          1.01017355e+00,  -3.10717325e-01,  -7.21439767e-02,\n",
       "         -1.62696151e+00,  -5.20520870e-01,  -4.63797316e-01,\n",
       "         -1.42532621e-01,  -1.58793524e-01,   7.54233820e-01,\n",
       "         -5.78218517e-01,   6.42590211e-02,   1.39221500e+00,\n",
       "          1.33923150e+00,   1.44871022e+00,  -6.38864538e-01,\n",
       "         -4.10258399e-01,  -9.21280059e-02,  -1.08351127e+00,\n",
       "         -6.30280859e-01,  -6.03841031e-02,  -2.67830340e-01,\n",
       "          5.67139302e-01,   1.09010177e-01,  -1.25132886e-01,\n",
       "          1.27492666e+00,  -3.83215734e-01,  -5.17454755e-01,\n",
       "         -2.98166591e-01,   1.44450813e+00,   4.07955472e-01,\n",
       "         -4.64152601e-01,  -1.16206600e-01,  -9.86658436e-01,\n",
       "          3.44303530e-02,  -2.71031805e-01,   2.83531475e-01,\n",
       "          9.25434899e-02,  -4.76350643e-01,   2.28090746e-01,\n",
       "          7.86478817e-01,   2.12008635e-01,  -6.22948687e-01,\n",
       "         -9.35005109e-01,   4.19563606e-01,   5.74164832e-01,\n",
       "         -1.71480508e-01,  -1.27093585e-01,  -7.89075452e-01,\n",
       "         -3.63907754e-01,  -4.63832096e-01,   2.10244840e+00,\n",
       "         -5.75053996e-01,  -4.02220650e-01,  -3.83013022e-01,\n",
       "          1.74583909e+00,  -3.88740906e-01,  -2.43743479e-01,\n",
       "         -2.74523149e-01,  -3.92096266e-01,  -7.53694421e-01,\n",
       "         -2.60370853e-01,  -2.41080317e-01,  -2.67017651e-01,\n",
       "         -2.86238054e-01,  -3.11324207e-01,  -1.82574895e-01,\n",
       "         -2.31777134e-01,  -3.40807834e-01,  -2.77696219e-01,\n",
       "          2.59992100e+00,  -3.22339052e-01,  -4.41665685e-01,\n",
       "          9.91023801e-01,  -3.75391722e-01,  -7.68788413e-02,\n",
       "         -1.21324400e-01,  -1.19141291e-01,  -1.03929529e-01,\n",
       "         -1.58590879e-01,  -1.67522187e-01,  -1.15211672e-01,\n",
       "         -4.39083417e-01,  -2.55083618e-01,   9.91023801e-01,\n",
       "         -3.75391722e-01,  -1.88683851e-01,  -2.58237548e-01,\n",
       "         -5.55518160e-01,  -5.91600828e-01,  -4.02205929e-01,\n",
       "          3.25227438e+00,  -3.19654962e-01,  -1.89224598e-01,\n",
       "         -1.93834590e-01,  -1.08029209e-01,  -1.55321284e-01,\n",
       "         -4.53987505e-01,  -4.03204281e-01,  -8.13945302e-01,\n",
       "          1.91847193e+00,  -2.23922072e-01,  -4.91298224e-01,\n",
       "         -4.03204281e-01,   4.41317094e-01,  -2.94407203e-01,\n",
       "         -2.06263763e-01,  -4.35333301e-01,  -6.70322637e-01,\n",
       "          1.69549066e+00,  -5.41310962e-01,  -4.27746067e-01,\n",
       "         -2.07663230e-01,  -7.39696613e-01,  -5.92853774e-01,\n",
       "          2.97584026e+00,  -3.12190508e-01,   8.56288970e-01,\n",
       "         -7.85922851e-02,  -5.37115095e-01,  -3.35485591e-02,\n",
       "         -1.11952465e-03,  -2.79990671e-02,  -4.86045634e-01,\n",
       "         -2.18032158e-01,  -3.41240620e-01,  -3.49271126e-01,\n",
       "          2.58457794e+00,  -2.72890905e-01,  -3.91134106e-01,\n",
       "         -3.29003482e-01,  -4.50151057e-01,  -3.96035652e-01,\n",
       "         -1.17408933e-01,  -7.16134721e-02,  -7.37396949e-02,\n",
       "         -1.23088672e-01,  -7.99292958e-02,  -1.29925488e-01,\n",
       "         -1.40665496e-01,  -1.57946022e-01,  -2.14424756e-01,\n",
       "         -1.15657624e-01,  -9.51182070e-02,  -2.13428432e-01,\n",
       "         -2.11954142e-01,  -2.08188051e-01,  -1.07075255e-01,\n",
       "          3.96081336e+00,  -1.04194116e-01,  -8.19298072e-02,\n",
       "         -1.24642945e-01,  -1.14663141e-01,  -1.12289252e-01,\n",
       "         -1.38142747e-01,  -6.71447931e-02,  -7.34556554e-02,\n",
       "         -9.27692324e-02,  -2.76500512e-01,  -1.37571604e-01,\n",
       "         -8.75778272e-02,  -1.43538769e-01,  -8.24861031e-02,\n",
       "         -2.12257416e-01,  -1.77994715e-01,  -1.07200923e-01,\n",
       "         -8.20305211e-02,  -7.64155903e-02,  -2.65219324e-01,\n",
       "         -2.09133225e-01,  -2.01026729e-01,  -1.50082595e-01,\n",
       "         -1.62561856e-01,  -1.89558343e-01,  -1.79804112e-01,\n",
       "         -1.92791518e-01,  -8.97673581e-02,   1.09815374e+00,\n",
       "         -1.88525698e+00,  -8.69624940e-01,   7.55897908e-01]])"
      ]
     },
     "execution_count": 144,
     "metadata": {},
     "output_type": "execute_result"
    }
   ],
   "source": [
    "# Apply feature scaling to the general population demographics data.\n",
    "\n",
    "X_t[:2]"
   ]
  },
  {
   "cell_type": "markdown",
   "metadata": {},
   "source": [
    "### Discussion 2.1: Apply Feature Scaling\n",
    "\n",
    "(Double-click this cell and replace this text with your own text, reporting your decisions regarding feature scaling.) <br>\n",
    "We used the pipeline to perform feauture transfortion. It is a short pipline consisting of:\n",
    "filling the data with most common values and standarizing the values of each column."
   ]
  },
  {
   "cell_type": "markdown",
   "metadata": {},
   "source": [
    "### Step 2.2: Perform Dimensionality Reduction\n",
    "\n",
    "On your scaled data, you are now ready to apply dimensionality reduction techniques.\n",
    "\n",
    "- Use sklearn's [PCA](http://scikit-learn.org/stable/modules/generated/sklearn.decomposition.PCA.html) class to apply principal component analysis on the data, thus finding the vectors of maximal variance in the data. To start, you should not set any parameters (so all components are computed) or set a number of components that is at least half the number of features (so there's enough features to see the general trend in variability).\n",
    "- Check out the ratio of variance explained by each principal component as well as the cumulative variance explained. Try plotting the cumulative or sequential values using matplotlib's [`plot()`](https://matplotlib.org/api/_as_gen/matplotlib.pyplot.plot.html) function. Based on what you find, select a value for the number of transformed features you'll retain for the clustering part of the project.\n",
    "- Once you've made a choice for the number of components to keep, make sure you re-fit a PCA instance to perform the decided-on transformation."
   ]
  },
  {
   "cell_type": "code",
   "execution_count": 145,
   "metadata": {},
   "outputs": [],
   "source": [
    "# Apply PCA to the data.\n",
    "from sklearn.decomposition import PCA\n",
    "pca = PCA()\n",
    "X_pca = pca.fit_transform(X_t)\n"
   ]
  },
  {
   "cell_type": "code",
   "execution_count": 146,
   "metadata": {},
   "outputs": [],
   "source": [
    "# Investigate the variance accounted for by each principal component.\n",
    "\n",
    "pca_components = list(range(len(pca.explained_variance_ratio_)))\n",
    "pca_total = np.cumsum(pca.explained_variance_ratio_)\n"
   ]
  },
  {
   "cell_type": "code",
   "execution_count": 147,
   "metadata": {},
   "outputs": [
    {
     "data": {
      "image/png": "[encoded data removed]",
      "text/plain": [
       "<matplotlib.figure.Figure at 0x7f45b0512cf8>"
      ]
     },
     "metadata": {
      "needs_background": "light"
     },
     "output_type": "display_data"
    }
   ],
   "source": [
    "plt.rcParams[\"figure.figsize\"] = (12,4)\n",
    "plt.bar(pca_components, pca.explained_variance_ratio_)\n",
    "plt.title(\"Variance amount explained by each component\")\n",
    "plt.xlabel(\"Principal component\")\n",
    "plt.ylabel(\"Proportion of variance amount\")\n",
    "plt.grid()\n",
    "plt.show()"
   ]
  },
  {
   "cell_type": "code",
   "execution_count": 148,
   "metadata": {},
   "outputs": [
    {
     "data": {
      "image/png": "[encoded data removed]",
      "text/plain": [
       "<matplotlib.figure.Figure at 0x7f45b0539198>"
      ]
     },
     "metadata": {
      "needs_background": "light"
     },
     "output_type": "display_data"
    }
   ],
   "source": [
    "plt.plot(pca_components,pca_total)\n",
    "plt.title(\"Variance amount explained by components\")\n",
    "plt.xlabel(\"Principal components total\")\n",
    "plt.ylabel(\"Proportion of variance amount\")\n",
    "plt.grid()\n",
    "plt.show()\n"
   ]
  },
  {
   "cell_type": "code",
   "execution_count": 149,
   "metadata": {},
   "outputs": [
    {
     "data": {
      "text/plain": [
       "1.0"
      ]
     },
     "execution_count": 149,
     "metadata": {},
     "output_type": "execute_result"
    }
   ],
   "source": [
    "# Re-apply PCA to the data while selecting for number of components to retain.\n",
    "pca_model = PCA(n_components=80)\n",
    "X_pca = pca_model.fit_transform(X_t)\n",
    "np.sum(pca.explained_variance_ratio_)"
   ]
  },
  {
   "cell_type": "markdown",
   "metadata": {},
   "source": [
    "### Discussion 2.2: Perform Dimensionality Reduction\n",
    "\n",
    "(Double-click this cell and replace this text with your own text, reporting your findings and decisions regarding dimensionality reduction. How many principal components / transformed features are you retaining for the next step of the analysis?) <br>\n",
    "I have chosen to retain 80 components for my reduced dataset as it allows to explain around 80% of variance of the dataset."
   ]
  },
  {
   "cell_type": "markdown",
   "metadata": {},
   "source": [
    "### Step 2.3: Interpret Principal Components\n",
    "\n",
    "Now that we have our transformed principal components, it's a nice idea to check out the weight of each variable on the first few components to see if they can be interpreted in some fashion.\n",
    "\n",
    "As a reminder, each principal component is a unit vector that points in the direction of highest variance (after accounting for the variance captured by earlier principal components). The further a weight is from zero, the more the principal component is in the direction of the corresponding feature. If two features have large weights of the same sign (both positive or both negative), then increases in one tend expect to be associated with increases in the other. To contrast, features with different signs can be expected to show a negative correlation: increases in one variable should result in a decrease in the other.\n",
    "\n",
    "- To investigate the features, you should map each weight to their corresponding feature name, then sort the features according to weight. The most interesting features for each principal component, then, will be those at the beginning and end of the sorted list. Use the data dictionary document to help you understand these most prominent features, their relationships, and what a positive or negative value on the principal component might indicate.\n",
    "- You should investigate and interpret feature associations from the first three principal components in this substep. To help facilitate this, you should write a function that you can call at any time to print the sorted list of feature weights, for the *i*-th principal component. This might come in handy in the next step of the project, when you interpret the tendencies of the discovered clusters."
   ]
  },
  {
   "cell_type": "code",
   "execution_count": 150,
   "metadata": {},
   "outputs": [
    {
     "data": {
      "text/plain": [
       "PCA(copy=True, iterated_power='auto', n_components=80, random_state=None,\n",
       "  svd_solver='auto', tol=0.0, whiten=False)"
      ]
     },
     "execution_count": 150,
     "metadata": {},
     "output_type": "execute_result"
    }
   ],
   "source": [
    "pca_model"
   ]
  },
  {
   "cell_type": "code",
   "execution_count": 151,
   "metadata": {},
   "outputs": [],
   "source": [
    "\n",
    "def map_weights(pca_model, features_name=None, component_number=0):\n",
    "    df = pd.DataFrame(pca_model.components_, columns=features_name)\n",
    "    weights = df.iloc[component_number].sort_values(ascending=False)\n",
    "    return weights    \n"
   ]
  },
  {
   "cell_type": "code",
   "execution_count": 152,
   "metadata": {},
   "outputs": [
    {
     "name": "stdout",
     "output_type": "stream",
     "text": [
      "LP_STATUS_GROB_1.0      0.197242\n",
      "HH_EINKOMMEN_SCORE      0.185263\n",
      "WEALTH                  0.183890\n",
      "PLZ8_ANTG3              0.181503\n",
      "PLZ8_ANTG4              0.175164\n",
      "ORTSGR_KLS9             0.154855\n",
      "EWDICHTE                0.153443\n",
      "FINANZ_HAUSBAUER        0.147514\n",
      "KBA05_ANTG4             0.129282\n",
      "PLZ8_ANTG2              0.125102\n",
      "LP_STATUS_FEIN_1.0      0.125089\n",
      "FINANZ_SPARER           0.124451\n",
      "LP_STATUS_FEIN_2.0      0.120595\n",
      "FINANZTYP_1             0.119726\n",
      "KBA05_ANTG3             0.117490\n",
      "ANZ_HAUSHALTE_AKTIV     0.116125\n",
      "CAMEO_DEUG_2015_9       0.114158\n",
      "ARBEIT                  0.112858\n",
      "RELAT_AB                0.107324\n",
      "MOVEMENT                0.104308\n",
      "CAMEO_DEUG_2015_8       0.092289\n",
      "SEMIO_PFLICHT           0.091488\n",
      "DECADE                  0.087278\n",
      "SEMIO_REL               0.086881\n",
      "LP_FAMILIE_FEIN_1.0     0.085205\n",
      "LP_FAMILIE_GROB_1.0     0.085205\n",
      "ZABEOTYP_5              0.079783\n",
      "SEMIO_RAT               0.076830\n",
      "GEBAEUDETYP_3.0         0.068369\n",
      "SEMIO_TRADV             0.067522\n",
      "                          ...   \n",
      "WOHNDAUER_2008         -0.054056\n",
      "SEMIO_LUST             -0.056341\n",
      "KBA13_ANZAHL_PKW       -0.057907\n",
      "LP_FAMILIE_GROB_5.0    -0.063962\n",
      "CAMEO_DEUG_2015_3      -0.065757\n",
      "NATIONALITAET_KZ_1.0   -0.070547\n",
      "CAMEO_DEUG_2015_4      -0.072311\n",
      "ANZ_PERSONEN           -0.081402\n",
      "FINANZTYP_2            -0.082676\n",
      "CAMEO_DEUG_2015_2      -0.088703\n",
      "GEBAEUDETYP_1.0        -0.089726\n",
      "FINANZ_VORSORGER       -0.092717\n",
      "ALTERSKATEGORIE_GROB   -0.092812\n",
      "ZABEOTYP_1             -0.095211\n",
      "BALLRAUM               -0.096909\n",
      "GEBAEUDETYP_RASTER     -0.098116\n",
      "GREEN_AVANTGARDE       -0.104308\n",
      "LP_STATUS_FEIN_9.0     -0.111545\n",
      "LIFE_STAGE             -0.111834\n",
      "LP_STATUS_GROB_4.0     -0.113261\n",
      "LP_STATUS_FEIN_10.0    -0.115400\n",
      "LP_STATUS_GROB_5.0     -0.115400\n",
      "INNENSTADT             -0.127711\n",
      "PLZ8_GBZ               -0.132256\n",
      "KONSUMNAEHE            -0.137078\n",
      "KBA05_ANTG1            -0.180621\n",
      "KBA05_GBZ              -0.181039\n",
      "PLZ8_ANTG1             -0.182679\n",
      "MOBI_REGIO             -0.187999\n",
      "FINANZ_MINIMALIST      -0.197145\n",
      "Name: 0, Length: 189, dtype: float64\n"
     ]
    }
   ],
   "source": [
    "# Map weights for the first principal component to corresponding feature names\n",
    "# and then print the linked values, sorted by weight.\n",
    "# HINT: Try defining a function here or in a new cell that you can reuse in the\n",
    "# other cells.\n",
    "columns_names =  list(azdias_subset1.columns)\n",
    "pca_weight_1 = map_weights(pca_model, columns_names,component_number=0)\n",
    "print (pca_weight_1)"
   ]
  },
  {
   "cell_type": "code",
   "execution_count": 153,
   "metadata": {},
   "outputs": [
    {
     "name": "stdout",
     "output_type": "stream",
     "text": [
      "ALTERSKATEGORIE_GROB     0.231732\n",
      "FINANZ_VORSORGER         0.216364\n",
      "ZABEOTYP_3               0.201179\n",
      "SEMIO_ERL                0.183346\n",
      "SEMIO_LUST               0.161217\n",
      "RETOURTYP_BK_S           0.155543\n",
      "CJT_GESAMTTYP_2.0        0.106323\n",
      "LP_STATUS_FEIN_1.0       0.105467\n",
      "FINANZTYP_5              0.098170\n",
      "FINANZ_HAUSBAUER         0.093825\n",
      "FINANZTYP_2              0.087822\n",
      "FINANZ_MINIMALIST        0.078448\n",
      "SEMIO_KRIT               0.077358\n",
      "PLZ8_ANTG3               0.075339\n",
      "SHOPPER_TYP_3.0          0.075171\n",
      "EWDICHTE                 0.073946\n",
      "PLZ8_ANTG4               0.073678\n",
      "ORTSGR_KLS9              0.073003\n",
      "CJT_GESAMTTYP_1.0        0.069855\n",
      "FINANZTYP_6              0.069113\n",
      "WEALTH                   0.068936\n",
      "SEMIO_KAEM               0.065534\n",
      "NATIONALITAET_KZ_1.0     0.065079\n",
      "KBA05_ANTG4              0.059761\n",
      "GFK_URLAUBERTYP_4.0      0.059492\n",
      "LP_FAMILIE_GROB_1.0      0.057901\n",
      "LP_FAMILIE_FEIN_1.0      0.057901\n",
      "ARBEIT                   0.056850\n",
      "WOHNDAUER_2008           0.053963\n",
      "ANZ_HAUSHALTE_AKTIV      0.053896\n",
      "                           ...   \n",
      "PLZ8_GBZ                -0.057875\n",
      "KONSUMNAEHE             -0.058715\n",
      "INNENSTADT              -0.058782\n",
      "MOBI_REGIO              -0.061049\n",
      "ANZ_PERSONEN            -0.063580\n",
      "SEMIO_SOZ               -0.065022\n",
      "ZABEOTYP_1              -0.067213\n",
      "LP_FAMILIE_GROB_4.0     -0.067518\n",
      "KBA05_GBZ               -0.071659\n",
      "GFK_URLAUBERTYP_9.0     -0.071754\n",
      "PLZ8_ANTG1              -0.074552\n",
      "FINANZTYP_3             -0.078429\n",
      "LP_STATUS_FEIN_5.0      -0.083807\n",
      "ZABEOTYP_5              -0.088737\n",
      "LP_STATUS_FEIN_2.0      -0.089072\n",
      "FINANZTYP_4             -0.089594\n",
      "ZABEOTYP_4              -0.102502\n",
      "FINANZTYP_1             -0.128276\n",
      "SEMIO_MAT               -0.130723\n",
      "SEMIO_FAM               -0.137484\n",
      "ONLINE_AFFINITAET       -0.162016\n",
      "SEMIO_RAT               -0.165100\n",
      "SEMIO_KULT              -0.168319\n",
      "FINANZ_ANLEGER          -0.202249\n",
      "SEMIO_PFLICHT           -0.204439\n",
      "SEMIO_TRADV             -0.207263\n",
      "FINANZ_UNAUFFAELLIGER   -0.215684\n",
      "SEMIO_REL               -0.216251\n",
      "FINANZ_SPARER           -0.223656\n",
      "DECADE                  -0.227921\n",
      "Name: 1, Length: 189, dtype: float64\n"
     ]
    }
   ],
   "source": [
    "# Map weights for the second principal component to corresponding feature names\n",
    "# and then print the linked values, sorted by weight.\n",
    "pca_weight_2 = map_weights(pca_model, columns_names,component_number=1)\n",
    "print (pca_weight_2)\n"
   ]
  },
  {
   "cell_type": "code",
   "execution_count": 154,
   "metadata": {},
   "outputs": [
    {
     "name": "stdout",
     "output_type": "stream",
     "text": [
      "ANREDE_KZ                0.345793\n",
      "SEMIO_VERT               0.320226\n",
      "SEMIO_FAM                0.258301\n",
      "SEMIO_SOZ                0.256878\n",
      "SEMIO_KULT               0.250272\n",
      "FINANZTYP_5              0.135622\n",
      "FINANZ_MINIMALIST        0.131245\n",
      "SHOPPER_TYP_0.0          0.121837\n",
      "ZABEOTYP_1               0.113452\n",
      "SEMIO_REL                0.108297\n",
      "SEMIO_MAT                0.085883\n",
      "RETOURTYP_BK_S           0.078401\n",
      "GREEN_AVANTGARDE         0.070697\n",
      "ORTSGR_KLS9              0.066573\n",
      "EWDICHTE                 0.065863\n",
      "SHOPPER_TYP_1.0          0.053524\n",
      "PLZ8_ANTG4               0.052795\n",
      "PLZ8_ANTG3               0.052429\n",
      "FINANZ_VORSORGER         0.051320\n",
      "LP_STATUS_FEIN_10.0      0.050210\n",
      "LP_STATUS_GROB_5.0       0.050210\n",
      "ZABEOTYP_6               0.050093\n",
      "LP_STATUS_FEIN_1.0       0.049006\n",
      "LP_STATUS_FEIN_3.0       0.043777\n",
      "RELAT_AB                 0.038397\n",
      "ARBEIT                   0.037757\n",
      "PLZ8_ANTG2               0.037402\n",
      "LP_STATUS_GROB_3.0       0.032496\n",
      "GEBAEUDETYP_3.0          0.030501\n",
      "NATIONALITAET_KZ_2.0     0.030155\n",
      "                           ...   \n",
      "GEBAEUDETYP_1.0         -0.029622\n",
      "NATIONALITAET_KZ_3.0    -0.031176\n",
      "HH_EINKOMMEN_SCORE      -0.031671\n",
      "ZABEOTYP_3              -0.032768\n",
      "LP_STATUS_GROB_2.0      -0.034382\n",
      "LP_FAMILIE_FEIN_4.0     -0.037709\n",
      "PLZ8_GBZ                -0.038638\n",
      "GEBAEUDETYP_RASTER      -0.040503\n",
      "KONSUMNAEHE             -0.049087\n",
      "PLZ8_ANTG1              -0.050555\n",
      "SHOPPER_TYP_3.0         -0.051300\n",
      "BALLRAUM                -0.051413\n",
      "FINANZ_UNAUFFAELLIGER   -0.053390\n",
      "LP_FAMILIE_GROB_3.0     -0.053709\n",
      "INNENSTADT              -0.058863\n",
      "DECADE                  -0.059798\n",
      "FINANZ_HAUSBAUER        -0.060106\n",
      "FINANZ_SPARER           -0.060430\n",
      "ZABEOTYP_4              -0.062605\n",
      "MOVEMENT                -0.070697\n",
      "LP_STATUS_FEIN_4.0      -0.073064\n",
      "LP_STATUS_FEIN_2.0      -0.081935\n",
      "SHOPPER_TYP_2.0         -0.091116\n",
      "FINANZTYP_1             -0.104720\n",
      "FINANZ_ANLEGER          -0.156489\n",
      "SEMIO_RAT               -0.159222\n",
      "SEMIO_ERL               -0.203936\n",
      "SEMIO_KRIT              -0.267435\n",
      "SEMIO_DOM               -0.284659\n",
      "SEMIO_KAEM              -0.313993\n",
      "Name: 2, Length: 189, dtype: float64\n"
     ]
    }
   ],
   "source": [
    "# Map weights for the third principal component to corresponding feature names\n",
    "# and then print the linked values, sorted by weight.\n",
    "pca_weight_3 = map_weights(pca_model, columns_names,component_number=2)\n",
    "print (pca_weight_3)\n"
   ]
  },
  {
   "cell_type": "markdown",
   "metadata": {},
   "source": [
    "### Discussion 2.3: Interpret Principal Components\n",
    "\n",
    "(Double-click this cell and replace this text with your own text, reporting your observations from detailed investigation of the first few principal components generated. Can we interpret positive and negative values from them in a meaningful way?) <ul>\n",
    "<b>the first principal component: </b> The most important features for this component are:\n",
    "<ol><li>positive: \n",
    "    <ul>\n",
    "<li> LP_STATUS_GROB_1.0      0.197242-Social status, rough scale-1: low-income earners (maps to 1-2 in fine scale)</li> \n",
    "<li> HH_EINKOMMEN_SCORE      0.185263: Estimated household net income</li>\n",
    "<li> WEALTH                  0.183890</li>\n",
    "    </ul>     \n",
    "        </li>\n",
    "<li>negative: \n",
    "    <ul>\n",
    "        <li> PLZ8_ANTG1             -0.182680: Number of 1-2 family houses in the PLZ8 region</li> \n",
    "        <li> MOBI_REGIO             -0.187999: Movement patterns</li>\n",
    "        <li> FINANZ_MINIMALIST      -0.197145: Financial typology, for each dimension:</li>\n",
    "    </ul> \n",
    "    </li>\n",
    "</ol>\n",
    "</ul>\n",
    "\n",
    "\n",
    "<br>\n",
    "<b>the second principal component: </b> The most important features for this component are:\n",
    "<ol><li>positive: \n",
    "    <ul>\n",
    "<li> ALTERSKATEGORIE_GROB     0.231732: Estimated age based on given name analysis</li> \n",
    "<li> FINANZ_VORSORGER         0.216364: Financial typology</li>\n",
    "<li>ZABEOTYP_3               0.201179: Energy consumption typology</li>\n",
    "    </ul>     \n",
    "        </li>\n",
    "<li>negative: \n",
    "    <ul>\n",
    "        <li>SEMIO_REL               -0.216251: Personality typology</li> \n",
    "        <li>FINANZ_SPARER           -0.223656: Financial typology</li>\n",
    "        <li>DECADE                  -0.227921</li>\n",
    "    </ul> \n",
    "    </li>\n",
    "</ol>\n",
    "\n",
    "\n",
    "<br>\n",
    "<b>the third principal component: </b> The most important features for this component are:\n",
    "<ol><li>positive: \n",
    "    <ul>\n",
    "        <li>ANREDE_KZ                0.345792: Gender</li> \n",
    "        <li>SEMIO_VERT               0.320225: Personality typology</li>\n",
    "        <li>SEMIO_FAM                0.258301: Personality typology</li>\n",
    "    </ul>     \n",
    "        </li>\n",
    "<li>negative: \n",
    "    <ul>\n",
    "        <li>SEMIO_KRIT              -0.267435: Personality typology</li> \n",
    "        <li>SEMIO_DOM               -0.284659: Personality typology</li>\n",
    "        <li>SEMIO_KAEM              -0.31399: Personality typology</li>\n",
    "    </ul> \n",
    "    </li>\n",
    "</ol>\n",
    "\n",
    "We see that this dataset is strongly impacted by the financial and personality data. The impact of time (decades) is quite visible in the amount of variability of the dataset. This kind of analyses allows to draw conlusions and add interpretations to the pca components of the reduced dataset."
   ]
  },
  {
   "cell_type": "markdown",
   "metadata": {},
   "source": [
    "## Step 3: Clustering\n",
    "\n",
    "### Step 3.1: Apply Clustering to General Population\n",
    "\n",
    "You've assessed and cleaned the demographics data, then scaled and transformed them. Now, it's time to see how the data clusters in the principal components space. In this substep, you will apply k-means clustering to the dataset and use the average within-cluster distances from each point to their assigned cluster's centroid to decide on a number of clusters to keep.\n",
    "\n",
    "- Use sklearn's [KMeans](http://scikit-learn.org/stable/modules/generated/sklearn.cluster.KMeans.html#sklearn.cluster.KMeans) class to perform k-means clustering on the PCA-transformed data.\n",
    "- Then, compute the average difference from each point to its assigned cluster's center. **Hint**: The KMeans object's `.score()` method might be useful here, but note that in sklearn, scores tend to be defined so that larger is better. Try applying it to a small, toy dataset, or use an internet search to help your understanding.\n",
    "- Perform the above two steps for a number of different cluster counts. You can then see how the average distance decreases with an increasing number of clusters. However, each additional cluster provides a smaller net benefit. Use this fact to select a final number of clusters in which to group the data. **Warning**: because of the large size of the dataset, it can take a long time for the algorithm to resolve. The more clusters to fit, the longer the algorithm will take. You should test for cluster counts through at least 10 clusters to get the full picture, but you shouldn't need to test for a number of clusters above about 30.\n",
    "- Once you've selected a final number of clusters to use, re-fit a KMeans instance to perform the clustering operation. Make sure that you also obtain the cluster assignments for the general demographics data, since you'll be using them in the final Step 3.3."
   ]
  },
  {
   "cell_type": "code",
   "execution_count": 155,
   "metadata": {},
   "outputs": [
    {
     "name": "stdout",
     "output_type": "stream",
     "text": [
      "For n_clusters=2, the average within-cluster distance is 134.7727571402563\n",
      "For n_clusters=4, the average within-cluster distance is 125.56993822444794\n",
      "For n_clusters=6, the average within-cluster distance is 120.74170280136245\n",
      "For n_clusters=8, the average within-cluster distance is 117.33747894057723\n",
      "For n_clusters=10, the average within-cluster distance is 114.85148344579858\n",
      "For n_clusters=12, the average within-cluster distance is 112.82549540094746\n",
      "For n_clusters=14, the average within-cluster distance is 111.02076917705989\n",
      "For n_clusters=16, the average within-cluster distance is 110.24898019859556\n",
      "For n_clusters=18, the average within-cluster distance is 109.09682110747005\n",
      "For n_clusters=20, the average within-cluster distance is 107.41374719711234\n",
      "For n_clusters=22, the average within-cluster distance is 105.64007207564208\n",
      "For n_clusters=24, the average within-cluster distance is 104.83115609942905\n"
     ]
    }
   ],
   "source": [
    "# Over a number of different cluster counts...\n",
    "from sklearn.cluster import KMeans\n",
    "avg_distance = []\n",
    "    # run k-means clustering on the data and...\n",
    "for nb_clusters in range(2,25,2):\n",
    "    kmeans = KMeans(n_clusters=nb_clusters).fit(X_pca)\n",
    "    score = np.abs(kmeans.score(X_pca))\n",
    "    # compute the average within-cluster distances.\n",
    "    print(f\"For n_clusters={nb_clusters}, the average within-cluster distance is {score/X_pca.shape[0]}\")\n",
    "    avg_distance.append(score/X_pca.shape[0])\n",
    "\n",
    "    \n",
    "    "
   ]
  },
  {
   "cell_type": "code",
   "execution_count": 156,
   "metadata": {},
   "outputs": [
    {
     "data": {
      "text/plain": [
       "[134.77275714025629,\n",
       " 125.56993822444794,\n",
       " 120.74170280136245,\n",
       " 117.33747894057723,\n",
       " 114.85148344579858,\n",
       " 112.82549540094746,\n",
       " 111.02076917705989,\n",
       " 110.24898019859556,\n",
       " 109.09682110747005,\n",
       " 107.41374719711234,\n",
       " 105.64007207564208,\n",
       " 104.83115609942905]"
      ]
     },
     "execution_count": 156,
     "metadata": {},
     "output_type": "execute_result"
    }
   ],
   "source": [
    "avg_distance"
   ]
  },
  {
   "cell_type": "code",
   "execution_count": 160,
   "metadata": {},
   "outputs": [
    {
     "data": {
      "image/png": "[encoded data removed]",
      "text/plain": [
       "<matplotlib.figure.Figure at 0x7f45b0539080>"
      ]
     },
     "metadata": {
      "needs_background": "light"
     },
     "output_type": "display_data"
    }
   ],
   "source": [
    "# Investigate the change in within-cluster distance across number of clusters.\n",
    "# HINT: Use matplotlib's plot function to visualize this relationship.\n",
    "clusters_list = list(range(2,25,2))\n",
    "plt.plot(clusters_list, avg_distance, linestyle='--', marker='o', color='r');\n",
    "plt.xlabel('number of clusters');\n",
    "plt.ylabel('Average Distance');\n",
    "plt.title('Average Distance in function of nb of clusters');\n"
   ]
  },
  {
   "cell_type": "code",
   "execution_count": 161,
   "metadata": {},
   "outputs": [],
   "source": [
    "# Re-fit the k-means model with the selected number of clusters and obtain\n",
    "# cluster predictions for the general population demographics data.\n",
    "model = KMeans(n_clusters=12).fit(X_pca)\n",
    "k_means_predictions = model.predict(X_pca)"
   ]
  },
  {
   "cell_type": "markdown",
   "metadata": {},
   "source": [
    "### Discussion 3.1: Apply Clustering to General Population\n",
    "\n",
    "Using the elbow method, the elbow point is not clearly pronounced, the change in within-cluster distance started decreasing around 12 clusters. Thus, the 12 clusters have been chosen for the final kmean model."
   ]
  },
  {
   "cell_type": "markdown",
   "metadata": {},
   "source": [
    "### Step 3.2: Apply All Steps to the Customer Data\n",
    "\n",
    "Now that you have clusters and cluster centers for the general population, it's time to see how the customer data maps on to those clusters. Take care to not confuse this for re-fitting all of the models to the customer data. Instead, you're going to use the fits from the general population to clean, transform, and cluster the customer data. In the last step of the project, you will interpret how the general population fits apply to the customer data.\n",
    "\n",
    "- Don't forget when loading in the customers data, that it is semicolon (`;`) delimited.\n",
    "- Apply the same feature wrangling, selection, and engineering steps to the customer demographics using the `clean_data()` function you created earlier. (You can assume that the customer demographics data has similar meaning behind missing data patterns as the general demographics data.)\n",
    "- Use the sklearn objects from the general demographics data, and apply their transformations to the customers data. That is, you should not be using a `.fit()` or `.fit_transform()` method to re-fit the old objects, nor should you be creating new sklearn objects! Carry the data through the feature scaling, PCA, and clustering steps, obtaining cluster assignments for all of the data in the customer demographics data."
   ]
  },
  {
   "cell_type": "code",
   "execution_count": 162,
   "metadata": {},
   "outputs": [],
   "source": [
    "# Load in the customer demographics data.\n",
    "customers = pd.read_csv('Udacity_CUSTOMERS_Subset.csv',delimiter=';')"
   ]
  },
  {
   "cell_type": "code",
   "execution_count": 163,
   "metadata": {},
   "outputs": [
    {
     "data": {
      "text/plain": [
       "(191652, 85)"
      ]
     },
     "execution_count": 163,
     "metadata": {},
     "output_type": "execute_result"
    }
   ],
   "source": [
    "customers.shape"
   ]
  },
  {
   "cell_type": "code",
   "execution_count": 164,
   "metadata": {},
   "outputs": [],
   "source": [
    "feat_info = pd.read_table(\"AZDIAS_Feature_Summary.csv\",sep=';')\n"
   ]
  },
  {
   "cell_type": "code",
   "execution_count": 165,
   "metadata": {},
   "outputs": [
    {
     "name": "stdout",
     "output_type": "stream",
     "text": [
      "1    94834\n",
      "2    46861\n",
      "Name: ANREDE_KZ, dtype: int64\n",
      "0    71333\n",
      "1    70362\n",
      "Name: GREEN_AVANTGARDE, dtype: int64\n",
      "0.0    140301\n",
      "1.0      1394\n",
      "Name: SOHO_KZ, dtype: int64\n",
      "1.0    70619\n",
      "2.0    68741\n",
      "Name: VERS_TYP, dtype: int64\n",
      "W    130353\n",
      "O     11342\n",
      "Name: OST_WEST_KZ, dtype: int64\n"
     ]
    },
    {
     "data": {
      "text/html": [
       "<div>\n",
       "<style scoped>\n",
       "    .dataframe tbody tr th:only-of-type {\n",
       "        vertical-align: middle;\n",
       "    }\n",
       "\n",
       "    .dataframe tbody tr th {\n",
       "        vertical-align: top;\n",
       "    }\n",
       "\n",
       "    .dataframe thead th {\n",
       "        text-align: right;\n",
       "    }\n",
       "</style>\n",
       "<table border=\"1\" class=\"dataframe\">\n",
       "  <thead>\n",
       "    <tr style=\"text-align: right;\">\n",
       "      <th></th>\n",
       "      <th>ALTERSKATEGORIE_GROB</th>\n",
       "      <th>ANREDE_KZ</th>\n",
       "      <th>FINANZ_MINIMALIST</th>\n",
       "      <th>FINANZ_SPARER</th>\n",
       "      <th>FINANZ_VORSORGER</th>\n",
       "      <th>FINANZ_ANLEGER</th>\n",
       "      <th>FINANZ_UNAUFFAELLIGER</th>\n",
       "      <th>FINANZ_HAUSBAUER</th>\n",
       "      <th>GREEN_AVANTGARDE</th>\n",
       "      <th>HEALTH_TYP</th>\n",
       "      <th>...</th>\n",
       "      <th>CAMEO_DEU_2015_8D</th>\n",
       "      <th>CAMEO_DEU_2015_9A</th>\n",
       "      <th>CAMEO_DEU_2015_9B</th>\n",
       "      <th>CAMEO_DEU_2015_9C</th>\n",
       "      <th>CAMEO_DEU_2015_9D</th>\n",
       "      <th>CAMEO_DEU_2015_9E</th>\n",
       "      <th>DECADE</th>\n",
       "      <th>MOVEMENT</th>\n",
       "      <th>WEALTH</th>\n",
       "      <th>LIFE_STAGE</th>\n",
       "    </tr>\n",
       "  </thead>\n",
       "  <tbody>\n",
       "    <tr>\n",
       "      <th>0</th>\n",
       "      <td>4.0</td>\n",
       "      <td>1</td>\n",
       "      <td>5</td>\n",
       "      <td>1</td>\n",
       "      <td>5</td>\n",
       "      <td>1</td>\n",
       "      <td>2</td>\n",
       "      <td>2</td>\n",
       "      <td>1</td>\n",
       "      <td>1.0</td>\n",
       "      <td>...</td>\n",
       "      <td>0</td>\n",
       "      <td>0</td>\n",
       "      <td>0</td>\n",
       "      <td>0</td>\n",
       "      <td>0</td>\n",
       "      <td>0</td>\n",
       "      <td>2.0</td>\n",
       "      <td>0.0</td>\n",
       "      <td>1.0</td>\n",
       "      <td>3.0</td>\n",
       "    </tr>\n",
       "    <tr>\n",
       "      <th>2</th>\n",
       "      <td>4.0</td>\n",
       "      <td>0</td>\n",
       "      <td>5</td>\n",
       "      <td>1</td>\n",
       "      <td>5</td>\n",
       "      <td>1</td>\n",
       "      <td>4</td>\n",
       "      <td>4</td>\n",
       "      <td>1</td>\n",
       "      <td>2.0</td>\n",
       "      <td>...</td>\n",
       "      <td>0</td>\n",
       "      <td>0</td>\n",
       "      <td>0</td>\n",
       "      <td>0</td>\n",
       "      <td>0</td>\n",
       "      <td>0</td>\n",
       "      <td>2.0</td>\n",
       "      <td>0.0</td>\n",
       "      <td>3.0</td>\n",
       "      <td>4.0</td>\n",
       "    </tr>\n",
       "    <tr>\n",
       "      <th>3</th>\n",
       "      <td>4.0</td>\n",
       "      <td>1</td>\n",
       "      <td>5</td>\n",
       "      <td>1</td>\n",
       "      <td>5</td>\n",
       "      <td>2</td>\n",
       "      <td>1</td>\n",
       "      <td>2</td>\n",
       "      <td>0</td>\n",
       "      <td>2.0</td>\n",
       "      <td>...</td>\n",
       "      <td>0</td>\n",
       "      <td>0</td>\n",
       "      <td>0</td>\n",
       "      <td>0</td>\n",
       "      <td>0</td>\n",
       "      <td>0</td>\n",
       "      <td>1.0</td>\n",
       "      <td>1.0</td>\n",
       "      <td>2.0</td>\n",
       "      <td>4.0</td>\n",
       "    </tr>\n",
       "  </tbody>\n",
       "</table>\n",
       "<p>3 rows × 188 columns</p>\n",
       "</div>"
      ],
      "text/plain": [
       "   ALTERSKATEGORIE_GROB  ANREDE_KZ  FINANZ_MINIMALIST  FINANZ_SPARER  \\\n",
       "0                   4.0          1                  5              1   \n",
       "2                   4.0          0                  5              1   \n",
       "3                   4.0          1                  5              1   \n",
       "\n",
       "   FINANZ_VORSORGER  FINANZ_ANLEGER  FINANZ_UNAUFFAELLIGER  FINANZ_HAUSBAUER  \\\n",
       "0                 5               1                      2                 2   \n",
       "2                 5               1                      4                 4   \n",
       "3                 5               2                      1                 2   \n",
       "\n",
       "   GREEN_AVANTGARDE  HEALTH_TYP     ...      CAMEO_DEU_2015_8D  \\\n",
       "0                 1         1.0     ...                      0   \n",
       "2                 1         2.0     ...                      0   \n",
       "3                 0         2.0     ...                      0   \n",
       "\n",
       "   CAMEO_DEU_2015_9A  CAMEO_DEU_2015_9B  CAMEO_DEU_2015_9C  CAMEO_DEU_2015_9D  \\\n",
       "0                  0                  0                  0                  0   \n",
       "2                  0                  0                  0                  0   \n",
       "3                  0                  0                  0                  0   \n",
       "\n",
       "   CAMEO_DEU_2015_9E  DECADE  MOVEMENT  WEALTH  LIFE_STAGE  \n",
       "0                  0     2.0       0.0     1.0         3.0  \n",
       "2                  0     2.0       0.0     3.0         4.0  \n",
       "3                  0     1.0       1.0     2.0         4.0  \n",
       "\n",
       "[3 rows x 188 columns]"
      ]
     },
     "execution_count": 165,
     "metadata": {},
     "output_type": "execute_result"
    }
   ],
   "source": [
    "# Apply preprocessing, feature transformation, and clustering from the general\n",
    "# demographics onto the customer data, obtaining cluster predictions for the\n",
    "# customer demographics data.\n",
    "\n",
    "customers_clean= clean_data(customers, feat_info)\n",
    "customers_clean.head(3)"
   ]
  },
  {
   "cell_type": "code",
   "execution_count": 166,
   "metadata": {},
   "outputs": [
    {
     "data": {
      "text/plain": [
       "((141695, 188), (797872, 189))"
      ]
     },
     "execution_count": 166,
     "metadata": {},
     "output_type": "execute_result"
    }
   ],
   "source": [
    "customers_clean.shape, test_df.shape"
   ]
  },
  {
   "cell_type": "code",
   "execution_count": 167,
   "metadata": {},
   "outputs": [
    {
     "data": {
      "text/plain": [
       "['GEBAEUDETYP_5.0']"
      ]
     },
     "execution_count": 167,
     "metadata": {},
     "output_type": "execute_result"
    }
   ],
   "source": [
    "# One column is different \n",
    "\n",
    "list(set(test_df)-set(customers_clean.columns))"
   ]
  },
  {
   "cell_type": "code",
   "execution_count": 168,
   "metadata": {},
   "outputs": [],
   "source": [
    "# we have to add one column to the customers_clean dataframe\n",
    "customers_clean['GEBAEUDETYP_5.0'] = 0"
   ]
  },
  {
   "cell_type": "code",
   "execution_count": 169,
   "metadata": {},
   "outputs": [],
   "source": [
    "scaler = StandardScaler() \n",
    "imputer = Imputer(strategy='most_frequent')\n",
    "aux = imputer.fit_transform(customers_clean)\n",
    "X_customers_t = scaler.fit_transform(aux)"
   ]
  },
  {
   "cell_type": "code",
   "execution_count": 170,
   "metadata": {},
   "outputs": [
    {
     "data": {
      "text/plain": [
       "(141695, 189)"
      ]
     },
     "execution_count": 170,
     "metadata": {},
     "output_type": "execute_result"
    }
   ],
   "source": [
    "X_customers_t.shape"
   ]
  },
  {
   "cell_type": "code",
   "execution_count": 171,
   "metadata": {},
   "outputs": [],
   "source": [
    "pca_model = PCA(n_components=80)\n",
    "X_pca_clients = pca_model.fit_transform(X_customers_t)"
   ]
  },
  {
   "cell_type": "code",
   "execution_count": 172,
   "metadata": {},
   "outputs": [],
   "source": [
    "predicitons_customers= model.predict(X_pca_clients)"
   ]
  },
  {
   "cell_type": "markdown",
   "metadata": {},
   "source": [
    "### Step 3.3: Compare Customer Data to Demographics Data\n",
    "\n",
    "At this point, you have clustered data based on demographics of the general population of Germany, and seen how the customer data for a mail-order sales company maps onto those demographic clusters. In this final substep, you will compare the two cluster distributions to see where the strongest customer base for the company is.\n",
    "\n",
    "Consider the proportion of persons in each cluster for the general population, and the proportions for the customers. If we think the company's customer base to be universal, then the cluster assignment proportions should be fairly similar between the two. If there are only particular segments of the population that are interested in the company's products, then we should see a mismatch from one to the other. If there is a higher proportion of persons in a cluster for the customer data compared to the general population (e.g. 5% of persons are assigned to a cluster for the general population, but 15% of the customer data is closest to that cluster's centroid) then that suggests the people in that cluster to be a target audience for the company. On the other hand, the proportion of the data in a cluster being larger in the general population than the customer data (e.g. only 2% of customers closest to a population centroid that captures 6% of the data) suggests that group of persons to be outside of the target demographics.\n",
    "\n",
    "Take a look at the following points in this step:\n",
    "\n",
    "- Compute the proportion of data points in each cluster for the general population and the customer data. Visualizations will be useful here: both for the individual dataset proportions, but also to visualize the ratios in cluster representation between groups. Seaborn's [`countplot()`](https://seaborn.pydata.org/generated/seaborn.countplot.html) or [`barplot()`](https://seaborn.pydata.org/generated/seaborn.barplot.html) function could be handy.\n",
    "  - Recall the analysis you performed in step 1.1.3 of the project, where you separated out certain data points from the dataset if they had more than a specified threshold of missing values. If you found that this group was qualitatively different from the main bulk of the data, you should treat this as an additional data cluster in this analysis. Make sure that you account for the number of data points in this subset, for both the general population and customer datasets, when making your computations!\n",
    "- Which cluster or clusters are overrepresented in the customer dataset compared to the general population? Select at least one such cluster and infer what kind of people might be represented by that cluster. Use the principal component interpretations from step 2.3 or look at additional components to help you make this inference. Alternatively, you can use the `.inverse_transform()` method of the PCA and StandardScaler objects to transform centroids back to the original data space and interpret the retrieved values directly.\n",
    "- Perform a similar investigation for the underrepresented clusters. Which cluster or clusters are underrepresented in the customer dataset compared to the general population, and what kinds of people are typified by these clusters?"
   ]
  },
  {
   "cell_type": "code",
   "execution_count": 173,
   "metadata": {},
   "outputs": [
    {
     "data": {
      "image/png": "[encoded data removed]",
      "text/plain": [
       "<matplotlib.figure.Figure at 0x7f45af428080>"
      ]
     },
     "metadata": {
      "needs_background": "light"
     },
     "output_type": "display_data"
    }
   ],
   "source": [
    "# Compare the proportion of data in each cluster for the customer data to the\n",
    "# proportion of data in each cluster for the general population.\n",
    "fig, (ax1, ax2) = plt.subplots(1, 2)\n",
    "fig.set_figwidth(18)\n",
    "ax1.set_title('General population Clusters')\n",
    "sns.countplot(k_means_predictions,ax=ax1)\n",
    "\n",
    "ax2.set_title('Customers Clusters')\n",
    "sns.countplot(predicitons_customers,ax=ax2)\n",
    "plt.show()\n",
    "\n"
   ]
  },
  {
   "cell_type": "code",
   "execution_count": 174,
   "metadata": {},
   "outputs": [],
   "source": [
    "positive_correlation = [\"LP_STATUS_GROB_1.0\",\n",
    "                       \"HH_EINKOMMEN_SCORE\",\n",
    "                       \"WEALTH\",\n",
    "                       \"ALTERSKATEGORIE_GROB\",\n",
    "                       \"FINANZ_VORSORGER\",\n",
    "                       \"ZABEOTYP_3\",\n",
    "                       \"ANREDE_KZ\",\n",
    "                        \"SEMIO_VERT\",\n",
    "                        \"SEMIO_FAM\"\n",
    "                       ]\n"
   ]
  },
  {
   "cell_type": "code",
   "execution_count": 175,
   "metadata": {},
   "outputs": [],
   "source": [
    "negative_correlation = [\"PLZ8_ANTG1\",\n",
    "                       \"MOBI_REGIO\",\n",
    "                        \"FINANZ_MINIMALIST\",\n",
    "                        \"SEMIO_REL\",\n",
    "                       \"FINANZ_SPARER\",\n",
    "                        \"DECADE\",\n",
    "                        \"SEMIO_KRIT\",\n",
    "                        \"SEMIO_DOM\",\n",
    "                        \"SEMIO_KAEM\"\n",
    "                       ]"
   ]
  },
  {
   "cell_type": "code",
   "execution_count": 176,
   "metadata": {},
   "outputs": [],
   "source": [
    "# What kinds of people are part of a cluster that is overrepresented in the\n",
    "# customer data compared to the general population?\n",
    "\n",
    "centroid_6 = scaler.inverse_transform(pca_model.inverse_transform(model.cluster_centers_[6]))"
   ]
  },
  {
   "cell_type": "code",
   "execution_count": 177,
   "metadata": {},
   "outputs": [],
   "source": [
    "# What kinds of people are part of a cluster that is underrepresented in the\n",
    "# customer data compared to the general population?\n",
    "centroid_2 = scaler.inverse_transform(pca_model.inverse_transform(model.cluster_centers_[2]))\n"
   ]
  },
  {
   "cell_type": "code",
   "execution_count": 178,
   "metadata": {},
   "outputs": [
    {
     "data": {
      "text/plain": [
       "ALTERSKATEGORIE_GROB     4.018475\n",
       "ANREDE_KZ                0.980371\n",
       "FINANZ_MINIMALIST        5.128963\n",
       "FINANZ_SPARER            0.501629\n",
       "FINANZ_VORSORGER         5.444028\n",
       "FINANZ_ANLEGER           0.670162\n",
       "FINANZ_UNAUFFAELLIGER    1.240666\n",
       "FINANZ_HAUSBAUER         2.550535\n",
       "GREEN_AVANTGARDE         0.498996\n",
       "HEALTH_TYP               1.619256\n",
       "RETOURTYP_BK_S           4.446412\n",
       "SEMIO_SOZ                4.906607\n",
       "SEMIO_FAM                4.216944\n",
       "SEMIO_REL                3.071343\n",
       "SEMIO_MAT                3.861963\n",
       "SEMIO_VERT               6.432920\n",
       "SEMIO_LUST               6.581737\n",
       "SEMIO_ERL                4.519950\n",
       "SEMIO_KULT               4.383831\n",
       "SEMIO_RAT                2.097720\n",
       "SEMIO_KRIT               2.936255\n",
       "SEMIO_DOM                2.828147\n",
       "SEMIO_KAEM               2.227693\n",
       "SEMIO_PFLICHT            2.148870\n",
       "SEMIO_TRADV              2.468958\n",
       "SOHO_KZ                  0.007550\n",
       "VERS_TYP                 0.360274\n",
       "ANZ_PERSONEN             2.402363\n",
       "ANZ_TITEL                0.125620\n",
       "HH_EINKOMMEN_SCORE       2.286795\n",
       "                           ...   \n",
       "CAMEO_DEU_2015_5B       -0.007964\n",
       "CAMEO_DEU_2015_5C       -0.014664\n",
       "CAMEO_DEU_2015_5D       -0.011244\n",
       "CAMEO_DEU_2015_5E        0.001339\n",
       "CAMEO_DEU_2015_5F       -0.003214\n",
       "CAMEO_DEU_2015_6A       -0.004142\n",
       "CAMEO_DEU_2015_6B       -0.036935\n",
       "CAMEO_DEU_2015_6C       -0.002753\n",
       "CAMEO_DEU_2015_6D        0.009072\n",
       "CAMEO_DEU_2015_6E       -0.001864\n",
       "CAMEO_DEU_2015_6F        0.001688\n",
       "CAMEO_DEU_2015_7A       -0.020248\n",
       "CAMEO_DEU_2015_7B       -0.004762\n",
       "CAMEO_DEU_2015_7C       -0.002785\n",
       "CAMEO_DEU_2015_7D       -0.001045\n",
       "CAMEO_DEU_2015_7E        0.002566\n",
       "CAMEO_DEU_2015_8A       -0.026563\n",
       "CAMEO_DEU_2015_8B       -0.017407\n",
       "CAMEO_DEU_2015_8C        0.004267\n",
       "CAMEO_DEU_2015_8D        0.021596\n",
       "CAMEO_DEU_2015_9A        0.002397\n",
       "CAMEO_DEU_2015_9B        0.003218\n",
       "CAMEO_DEU_2015_9C        0.006734\n",
       "CAMEO_DEU_2015_9D        0.022998\n",
       "CAMEO_DEU_2015_9E        0.054218\n",
       "DECADE                   1.579772\n",
       "MOVEMENT                 0.493689\n",
       "WEALTH                   1.207226\n",
       "LIFE_STAGE               4.260197\n",
       "GEBAEUDETYP_5.0          0.000000\n",
       "Length: 189, dtype: float64"
      ]
     },
     "execution_count": 178,
     "metadata": {},
     "output_type": "execute_result"
    }
   ],
   "source": [
    "overrepresented_c = pd.Series(data = centroid_6, index = customers_clean.columns)\n",
    "overrepresented_c"
   ]
  },
  {
   "cell_type": "code",
   "execution_count": 179,
   "metadata": {},
   "outputs": [
    {
     "data": {
      "text/plain": [
       "ALTERSKATEGORIE_GROB     2.824971\n",
       "ANREDE_KZ                0.173893\n",
       "FINANZ_MINIMALIST        3.151516\n",
       "FINANZ_SPARER            2.432296\n",
       "FINANZ_VORSORGER         3.606585\n",
       "FINANZ_ANLEGER           2.954430\n",
       "FINANZ_UNAUFFAELLIGER    2.409128\n",
       "FINANZ_HAUSBAUER         3.047322\n",
       "GREEN_AVANTGARDE         0.046326\n",
       "HEALTH_TYP               2.399290\n",
       "RETOURTYP_BK_S           3.242594\n",
       "SEMIO_SOZ                3.344496\n",
       "SEMIO_FAM                3.090180\n",
       "SEMIO_REL                3.173444\n",
       "SEMIO_MAT                3.087326\n",
       "SEMIO_VERT               3.236975\n",
       "SEMIO_LUST               4.327991\n",
       "SEMIO_ERL                5.841004\n",
       "SEMIO_KULT               2.972273\n",
       "SEMIO_RAT                4.209469\n",
       "SEMIO_KRIT               5.605584\n",
       "SEMIO_DOM                5.579950\n",
       "SEMIO_KAEM               5.636746\n",
       "SEMIO_PFLICHT            4.070310\n",
       "SEMIO_TRADV              3.216409\n",
       "SOHO_KZ                  0.020183\n",
       "VERS_TYP                 0.633599\n",
       "ANZ_PERSONEN             2.213294\n",
       "ANZ_TITEL                0.007902\n",
       "HH_EINKOMMEN_SCORE       4.507661\n",
       "                           ...   \n",
       "CAMEO_DEU_2015_5B        0.007582\n",
       "CAMEO_DEU_2015_5C        0.019796\n",
       "CAMEO_DEU_2015_5D        0.019865\n",
       "CAMEO_DEU_2015_5E       -0.001866\n",
       "CAMEO_DEU_2015_5F        0.000904\n",
       "CAMEO_DEU_2015_6A        0.013425\n",
       "CAMEO_DEU_2015_6B        0.062548\n",
       "CAMEO_DEU_2015_6C        0.026869\n",
       "CAMEO_DEU_2015_6D        0.006936\n",
       "CAMEO_DEU_2015_6E        0.033900\n",
       "CAMEO_DEU_2015_6F        0.004619\n",
       "CAMEO_DEU_2015_7A        0.050155\n",
       "CAMEO_DEU_2015_7B        0.042454\n",
       "CAMEO_DEU_2015_7C        0.014070\n",
       "CAMEO_DEU_2015_7D        0.004958\n",
       "CAMEO_DEU_2015_7E        0.002278\n",
       "CAMEO_DEU_2015_8A        0.041790\n",
       "CAMEO_DEU_2015_8B        0.046494\n",
       "CAMEO_DEU_2015_8C        0.016409\n",
       "CAMEO_DEU_2015_8D        0.014687\n",
       "CAMEO_DEU_2015_9A        0.008992\n",
       "CAMEO_DEU_2015_9B        0.011659\n",
       "CAMEO_DEU_2015_9C        0.018377\n",
       "CAMEO_DEU_2015_9D        0.020691\n",
       "CAMEO_DEU_2015_9E        0.018857\n",
       "DECADE                   4.285668\n",
       "MOVEMENT                 0.931023\n",
       "WEALTH                   3.032173\n",
       "LIFE_STAGE               2.934465\n",
       "GEBAEUDETYP_5.0          0.000000\n",
       "Length: 189, dtype: float64"
      ]
     },
     "execution_count": 179,
     "metadata": {},
     "output_type": "execute_result"
    }
   ],
   "source": [
    "underrepresented_c = pd.Series(data = centroid_2, index = customers_clean.columns)\n",
    "underrepresented_c"
   ]
  },
  {
   "cell_type": "code",
   "execution_count": 181,
   "metadata": {},
   "outputs": [
    {
     "data": {
      "text/html": [
       "<div>\n",
       "<style scoped>\n",
       "    .dataframe tbody tr th:only-of-type {\n",
       "        vertical-align: middle;\n",
       "    }\n",
       "\n",
       "    .dataframe tbody tr th {\n",
       "        vertical-align: top;\n",
       "    }\n",
       "\n",
       "    .dataframe thead th {\n",
       "        text-align: right;\n",
       "    }\n",
       "</style>\n",
       "<table border=\"1\" class=\"dataframe\">\n",
       "  <thead>\n",
       "    <tr style=\"text-align: right;\">\n",
       "      <th></th>\n",
       "      <th>feature</th>\n",
       "      <th>centroid_6</th>\n",
       "      <th>centroid_2</th>\n",
       "    </tr>\n",
       "  </thead>\n",
       "  <tbody>\n",
       "    <tr>\n",
       "      <th>0</th>\n",
       "      <td>ALTERSKATEGORIE_GROB</td>\n",
       "      <td>4.018475</td>\n",
       "      <td>2.824971</td>\n",
       "    </tr>\n",
       "    <tr>\n",
       "      <th>1</th>\n",
       "      <td>ANREDE_KZ</td>\n",
       "      <td>0.980371</td>\n",
       "      <td>0.173893</td>\n",
       "    </tr>\n",
       "    <tr>\n",
       "      <th>4</th>\n",
       "      <td>FINANZ_VORSORGER</td>\n",
       "      <td>5.444028</td>\n",
       "      <td>3.606585</td>\n",
       "    </tr>\n",
       "    <tr>\n",
       "      <th>12</th>\n",
       "      <td>SEMIO_FAM</td>\n",
       "      <td>4.216944</td>\n",
       "      <td>3.090180</td>\n",
       "    </tr>\n",
       "    <tr>\n",
       "      <th>15</th>\n",
       "      <td>SEMIO_VERT</td>\n",
       "      <td>6.432920</td>\n",
       "      <td>3.236975</td>\n",
       "    </tr>\n",
       "    <tr>\n",
       "      <th>29</th>\n",
       "      <td>HH_EINKOMMEN_SCORE</td>\n",
       "      <td>2.286795</td>\n",
       "      <td>4.507661</td>\n",
       "    </tr>\n",
       "    <tr>\n",
       "      <th>107</th>\n",
       "      <td>LP_STATUS_GROB_1.0</td>\n",
       "      <td>-0.003667</td>\n",
       "      <td>0.324184</td>\n",
       "    </tr>\n",
       "    <tr>\n",
       "      <th>121</th>\n",
       "      <td>ZABEOTYP_3</td>\n",
       "      <td>0.481613</td>\n",
       "      <td>0.508643</td>\n",
       "    </tr>\n",
       "    <tr>\n",
       "      <th>186</th>\n",
       "      <td>WEALTH</td>\n",
       "      <td>1.207226</td>\n",
       "      <td>3.032173</td>\n",
       "    </tr>\n",
       "  </tbody>\n",
       "</table>\n",
       "</div>"
      ],
      "text/plain": [
       "                  feature  centroid_6  centroid_2\n",
       "0    ALTERSKATEGORIE_GROB    4.018475    2.824971\n",
       "1               ANREDE_KZ    0.980371    0.173893\n",
       "4        FINANZ_VORSORGER    5.444028    3.606585\n",
       "12              SEMIO_FAM    4.216944    3.090180\n",
       "15             SEMIO_VERT    6.432920    3.236975\n",
       "29     HH_EINKOMMEN_SCORE    2.286795    4.507661\n",
       "107    LP_STATUS_GROB_1.0   -0.003667    0.324184\n",
       "121            ZABEOTYP_3    0.481613    0.508643\n",
       "186                WEALTH    1.207226    3.032173"
      ]
     },
     "execution_count": 181,
     "metadata": {},
     "output_type": "execute_result"
    }
   ],
   "source": [
    "centroids=pd.DataFrame({\"feature\":customers_clean.columns,\"centroid_6\":centroid_6,\"centroid_2\":centroid_2})\n",
    "centroids[centroids[\"feature\"].isin(positive_correlation)]\n"
   ]
  },
  {
   "cell_type": "code",
   "execution_count": 182,
   "metadata": {},
   "outputs": [
    {
     "data": {
      "text/html": [
       "<div>\n",
       "<style scoped>\n",
       "    .dataframe tbody tr th:only-of-type {\n",
       "        vertical-align: middle;\n",
       "    }\n",
       "\n",
       "    .dataframe tbody tr th {\n",
       "        vertical-align: top;\n",
       "    }\n",
       "\n",
       "    .dataframe thead th {\n",
       "        text-align: right;\n",
       "    }\n",
       "</style>\n",
       "<table border=\"1\" class=\"dataframe\">\n",
       "  <thead>\n",
       "    <tr style=\"text-align: right;\">\n",
       "      <th></th>\n",
       "      <th>feature</th>\n",
       "      <th>centroid_6</th>\n",
       "      <th>centroid_2</th>\n",
       "    </tr>\n",
       "  </thead>\n",
       "  <tbody>\n",
       "    <tr>\n",
       "      <th>2</th>\n",
       "      <td>FINANZ_MINIMALIST</td>\n",
       "      <td>5.128963</td>\n",
       "      <td>3.151516</td>\n",
       "    </tr>\n",
       "    <tr>\n",
       "      <th>3</th>\n",
       "      <td>FINANZ_SPARER</td>\n",
       "      <td>0.501629</td>\n",
       "      <td>2.432296</td>\n",
       "    </tr>\n",
       "    <tr>\n",
       "      <th>13</th>\n",
       "      <td>SEMIO_REL</td>\n",
       "      <td>3.071343</td>\n",
       "      <td>3.173444</td>\n",
       "    </tr>\n",
       "    <tr>\n",
       "      <th>20</th>\n",
       "      <td>SEMIO_KRIT</td>\n",
       "      <td>2.936255</td>\n",
       "      <td>5.605584</td>\n",
       "    </tr>\n",
       "    <tr>\n",
       "      <th>21</th>\n",
       "      <td>SEMIO_DOM</td>\n",
       "      <td>2.828147</td>\n",
       "      <td>5.579950</td>\n",
       "    </tr>\n",
       "    <tr>\n",
       "      <th>22</th>\n",
       "      <td>SEMIO_KAEM</td>\n",
       "      <td>2.227693</td>\n",
       "      <td>5.636746</td>\n",
       "    </tr>\n",
       "    <tr>\n",
       "      <th>45</th>\n",
       "      <td>MOBI_REGIO</td>\n",
       "      <td>4.338067</td>\n",
       "      <td>3.132912</td>\n",
       "    </tr>\n",
       "    <tr>\n",
       "      <th>48</th>\n",
       "      <td>PLZ8_ANTG1</td>\n",
       "      <td>3.271707</td>\n",
       "      <td>2.347547</td>\n",
       "    </tr>\n",
       "    <tr>\n",
       "      <th>184</th>\n",
       "      <td>DECADE</td>\n",
       "      <td>1.579772</td>\n",
       "      <td>4.285668</td>\n",
       "    </tr>\n",
       "  </tbody>\n",
       "</table>\n",
       "</div>"
      ],
      "text/plain": [
       "               feature  centroid_6  centroid_2\n",
       "2    FINANZ_MINIMALIST    5.128963    3.151516\n",
       "3        FINANZ_SPARER    0.501629    2.432296\n",
       "13           SEMIO_REL    3.071343    3.173444\n",
       "20          SEMIO_KRIT    2.936255    5.605584\n",
       "21           SEMIO_DOM    2.828147    5.579950\n",
       "22          SEMIO_KAEM    2.227693    5.636746\n",
       "45          MOBI_REGIO    4.338067    3.132912\n",
       "48          PLZ8_ANTG1    3.271707    2.347547\n",
       "184             DECADE    1.579772    4.285668"
      ]
     },
     "execution_count": 182,
     "metadata": {},
     "output_type": "execute_result"
    }
   ],
   "source": [
    "centroids[centroids[\"feature\"].isin(negative_correlation)]"
   ]
  },
  {
   "cell_type": "markdown",
   "metadata": {},
   "source": [
    "### Discussion 3.3: Compare Customer Data to Demographics Data\n",
    "\n",
    "(Double-click this cell and replace this text with your own text, reporting findings and conclusions from the clustering analysis. Can we describe segments of the population that are relatively popular with the mail-order company, or relatively unpopular with the company?)\n",
    "\n",
    "The Cluster 6 is overrepresented in the customer data compared to the general population, the following conslusions can be drawn about the customers:\n",
    "\n",
    "The customers of the mail-order company are unlikely to be low financial interest people and money savers as well as old rich people.\n",
    "\n",
    "Their clients are likely to be middle class earning middle class money salary. Their personality is dreamful, family oriented. \n"
   ]
  },
  {
   "cell_type": "markdown",
   "metadata": {},
   "source": [
    "> Congratulations on making it this far in the project! Before you finish, make sure to check through the entire notebook from top to bottom to make sure that your analysis follows a logical flow and all of your findings are documented in **Discussion** cells. Once you've checked over all of your work, you should export the notebook as an HTML document to submit for evaluation. You can do this from the menu, navigating to **File -> Download as -> HTML (.html)**. You will submit both that document and this notebook for your project submission."
   ]
  },
  {
   "cell_type": "code",
   "execution_count": null,
   "metadata": {},
   "outputs": [],
   "source": []
  }
 ],
 "metadata": {
  "kernelspec": {
   "display_name": "Python 3",
   "language": "python",
   "name": "python3"
  },
  "language_info": {
   "codemirror_mode": {
    "name": "ipython",
    "version": 3
   },
   "file_extension": ".py",
   "mimetype": "text/x-python",
   "name": "python",
   "nbconvert_exporter": "python",
   "pygments_lexer": "ipython3",
   "version": "3.6.3"
  }
 },
 "nbformat": 4,
 "nbformat_minor": 2
}
